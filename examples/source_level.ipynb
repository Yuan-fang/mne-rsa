{
 "cells": [
  {
   "cell_type": "code",
   "execution_count": 1,
   "metadata": {},
   "outputs": [],
   "source": [
    "%gui qt\n",
    "import os.path as op\n",
    "import mne\n",
    "\n",
    "sample_path = mne.datasets.sample.data_path()\n",
    "data_path = op.join(sample_path, 'MEG', 'sample')\n",
    "subjects_dir = op.join(sample_path, 'subjects')"
   ]
  },
  {
   "cell_type": "code",
   "execution_count": 2,
   "metadata": {},
   "outputs": [
    {
     "name": "stdout",
     "output_type": "stream",
     "text": [
      "Reading inverse operator decomposition from C:\\Users\\wmvan\\mne_data\\MNE-sample-data\\MEG\\sample\\sample_audvis-meg-oct-6-meg-fixed-inv.fif...\n",
      "    Reading inverse operator info...\n",
      "    [done]\n",
      "    Reading inverse operator decomposition...\n",
      "    [done]\n",
      "    305 x 305 full covariance (kind = 1) found.\n",
      "    Read a total of 4 projection items:\n",
      "        PCA-v1 (1 x 102) active\n",
      "        PCA-v2 (1 x 102) active\n",
      "        PCA-v3 (1 x 102) active\n",
      "        Average EEG reference (1 x 60) active\n",
      "    Noise covariance matrix read.\n",
      "    7498 x 7498 diagonal covariance (kind = 2) found.\n",
      "    Source covariance matrix read.\n",
      "    Did not find the desired covariance matrix (kind = 6)\n",
      "    7498 x 7498 diagonal covariance (kind = 5) found.\n",
      "    Depth priors read.\n",
      "    Did not find the desired covariance matrix (kind = 3)\n",
      "    Reading a source space...\n",
      "    Computing patch statistics...\n",
      "    Patch information added...\n",
      "    Distance information added...\n",
      "    [done]\n",
      "    Reading a source space...\n",
      "    Computing patch statistics...\n",
      "    Patch information added...\n",
      "    Distance information added...\n",
      "    [done]\n",
      "    2 source spaces read\n",
      "    Read a total of 4 projection items:\n",
      "        PCA-v1 (1 x 102) active\n",
      "        PCA-v2 (1 x 102) active\n",
      "        PCA-v3 (1 x 102) active\n",
      "        Average EEG reference (1 x 60) active\n",
      "    Source spaces transformed to the inverse solution coordinate frame\n"
     ]
    }
   ],
   "source": [
    "inv = mne.minimum_norm.read_inverse_operator(op.join(data_path, 'sample_audvis-meg-oct-6-meg-fixed-inv.fif'))"
   ]
  },
  {
   "cell_type": "code",
   "execution_count": 3,
   "metadata": {},
   "outputs": [
    {
     "name": "stdout",
     "output_type": "stream",
     "text": [
      "Opening raw data file C:\\Users\\wmvan\\mne_data\\MNE-sample-data\\MEG\\sample\\sample_audvis_filt-0-40_raw.fif...\n",
      "    Read a total of 4 projection items:\n",
      "        PCA-v1 (1 x 102)  idle\n",
      "        PCA-v2 (1 x 102)  idle\n",
      "        PCA-v3 (1 x 102)  idle\n",
      "        Average EEG reference (1 x 60)  idle\n",
      "    Range : 6450 ... 48149 =     42.956 ...   320.665 secs\n",
      "Ready.\n",
      "Current compensation grade : 0\n",
      "288 matching events found\n",
      "Applying baseline correction (mode: mean)\n",
      "Not setting metadata\n",
      "Created an SSP operator (subspace dimension = 4)\n",
      "4 projection items activated\n"
     ]
    }
   ],
   "source": [
    "raw = mne.io.read_raw_fif(op.join(data_path, 'sample_audvis_filt-0-40_raw.fif'))\n",
    "events = mne.read_events(op.join(data_path, 'sample_audvis_filt-0-40_raw-eve.fif'))\n",
    "event_id = {'audio/left': 1,\n",
    "            'audio/right': 2,\n",
    "            'visual/left': 3,\n",
    "            'visual/right': 4}\n",
    "epochs = mne.Epochs(raw, events, event_id)"
   ]
  },
  {
   "cell_type": "code",
   "execution_count": 4,
   "metadata": {},
   "outputs": [
    {
     "name": "stdout",
     "output_type": "stream",
     "text": [
      "    Reading a source space...\n",
      "    [done]\n",
      "    Reading a source space...\n",
      "    [done]\n",
      "    2 source spaces read\n"
     ]
    }
   ],
   "source": [
    "src = mne.read_source_spaces(op.join(subjects_dir, 'sample', 'bem', 'sample-all-src.fif'))"
   ]
  },
  {
   "cell_type": "code",
   "execution_count": 18,
   "metadata": {},
   "outputs": [
    {
     "name": "stdout",
     "output_type": "stream",
     "text": [
      "Preparing the inverse operator for use...\n",
      "    Scaled noise and source covariance from nave = 1 to nave = 1\n",
      "    Created the regularized inverter\n",
      "    Created an SSP operator (subspace dimension = 3)\n",
      "    Created the whitener using a noise covariance matrix with rank 302 (3 small eigenvalues omitted)\n",
      "    Computing noise-normalization factors (dSPM)...\n",
      "[done]\n",
      "Picked 305 channels from the data\n",
      "Computing inverse...\n",
      "    Eigenleads need to be weighted ...\n",
      "Processing epoch : 1 / 288 (at most)\n",
      "Processing epoch : 2 / 288 (at most)\n",
      "Processing epoch : 3 / 288 (at most)\n",
      "Processing epoch : 4 / 288 (at most)\n"
     ]
    },
    {
     "name": "stderr",
     "output_type": "stream",
     "text": [
      "<ipython-input-18-a62115edfe1e>:1: RuntimeWarning: The measurement information indicates a low-pass frequency of 40 Hz. The decim=2 parameter will result in a sampling frequency of 75.0769 Hz, which can cause aliasing artifacts.\n",
      "  epochs.decimate(2)\n"
     ]
    },
    {
     "name": "stdout",
     "output_type": "stream",
     "text": [
      "Processing epoch : 5 / 288 (at most)\n",
      "Processing epoch : 6 / 288 (at most)\n",
      "Processing epoch : 7 / 288 (at most)\n",
      "Processing epoch : 8 / 288 (at most)\n",
      "Processing epoch : 9 / 288 (at most)\n",
      "Processing epoch : 10 / 288 (at most)\n",
      "Processing epoch : 11 / 288 (at most)\n",
      "Processing epoch : 12 / 288 (at most)\n",
      "Processing epoch : 13 / 288 (at most)\n",
      "Processing epoch : 14 / 288 (at most)\n",
      "Processing epoch : 15 / 288 (at most)\n",
      "Processing epoch : 16 / 288 (at most)\n",
      "Processing epoch : 17 / 288 (at most)\n",
      "Processing epoch : 18 / 288 (at most)\n",
      "Processing epoch : 19 / 288 (at most)\n",
      "Processing epoch : 20 / 288 (at most)\n",
      "Processing epoch : 21 / 288 (at most)\n",
      "Processing epoch : 22 / 288 (at most)\n",
      "Processing epoch : 23 / 288 (at most)\n",
      "Processing epoch : 24 / 288 (at most)\n",
      "Processing epoch : 25 / 288 (at most)\n",
      "Processing epoch : 26 / 288 (at most)\n",
      "Processing epoch : 27 / 288 (at most)\n",
      "Processing epoch : 28 / 288 (at most)\n",
      "Processing epoch : 29 / 288 (at most)\n",
      "Processing epoch : 30 / 288 (at most)\n",
      "Processing epoch : 31 / 288 (at most)\n",
      "Processing epoch : 32 / 288 (at most)\n",
      "Processing epoch : 33 / 288 (at most)\n",
      "Processing epoch : 34 / 288 (at most)\n",
      "Processing epoch : 35 / 288 (at most)\n",
      "Processing epoch : 36 / 288 (at most)\n",
      "Processing epoch : 37 / 288 (at most)\n",
      "Processing epoch : 38 / 288 (at most)\n",
      "Processing epoch : 39 / 288 (at most)\n",
      "Processing epoch : 40 / 288 (at most)\n",
      "Processing epoch : 41 / 288 (at most)\n",
      "Processing epoch : 42 / 288 (at most)\n",
      "Processing epoch : 43 / 288 (at most)\n",
      "Processing epoch : 44 / 288 (at most)\n",
      "Processing epoch : 45 / 288 (at most)\n",
      "Processing epoch : 46 / 288 (at most)\n",
      "Processing epoch : 47 / 288 (at most)\n",
      "Processing epoch : 48 / 288 (at most)\n",
      "Processing epoch : 49 / 288 (at most)\n",
      "Processing epoch : 50 / 288 (at most)\n",
      "Processing epoch : 51 / 288 (at most)\n",
      "Processing epoch : 52 / 288 (at most)\n",
      "Processing epoch : 53 / 288 (at most)\n",
      "Processing epoch : 54 / 288 (at most)\n",
      "Processing epoch : 55 / 288 (at most)\n",
      "Processing epoch : 56 / 288 (at most)\n",
      "Processing epoch : 57 / 288 (at most)\n",
      "Processing epoch : 58 / 288 (at most)\n",
      "Processing epoch : 59 / 288 (at most)\n",
      "Processing epoch : 60 / 288 (at most)\n",
      "Processing epoch : 61 / 288 (at most)\n",
      "Processing epoch : 62 / 288 (at most)\n",
      "Processing epoch : 63 / 288 (at most)\n",
      "Processing epoch : 64 / 288 (at most)\n",
      "Processing epoch : 65 / 288 (at most)\n",
      "Processing epoch : 66 / 288 (at most)\n",
      "Processing epoch : 67 / 288 (at most)\n",
      "Processing epoch : 68 / 288 (at most)\n",
      "Processing epoch : 69 / 288 (at most)\n",
      "Processing epoch : 70 / 288 (at most)\n",
      "Processing epoch : 71 / 288 (at most)\n",
      "Processing epoch : 72 / 288 (at most)\n",
      "Processing epoch : 73 / 288 (at most)\n",
      "Processing epoch : 74 / 288 (at most)\n",
      "Processing epoch : 75 / 288 (at most)\n",
      "Processing epoch : 76 / 288 (at most)\n",
      "Processing epoch : 77 / 288 (at most)\n",
      "Processing epoch : 78 / 288 (at most)\n",
      "Processing epoch : 79 / 288 (at most)\n",
      "Processing epoch : 80 / 288 (at most)\n",
      "Processing epoch : 81 / 288 (at most)\n",
      "Processing epoch : 82 / 288 (at most)\n",
      "Processing epoch : 83 / 288 (at most)\n",
      "Processing epoch : 84 / 288 (at most)\n",
      "Processing epoch : 85 / 288 (at most)\n",
      "Processing epoch : 86 / 288 (at most)\n",
      "Processing epoch : 87 / 288 (at most)\n",
      "Processing epoch : 88 / 288 (at most)\n",
      "Processing epoch : 89 / 288 (at most)\n",
      "Processing epoch : 90 / 288 (at most)\n",
      "Processing epoch : 91 / 288 (at most)\n",
      "Processing epoch : 92 / 288 (at most)\n",
      "Processing epoch : 93 / 288 (at most)\n",
      "Processing epoch : 94 / 288 (at most)\n",
      "Processing epoch : 95 / 288 (at most)\n",
      "Processing epoch : 96 / 288 (at most)\n",
      "Processing epoch : 97 / 288 (at most)\n",
      "Processing epoch : 98 / 288 (at most)\n",
      "Processing epoch : 99 / 288 (at most)\n",
      "Processing epoch : 100 / 288 (at most)\n",
      "Processing epoch : 101 / 288 (at most)\n",
      "Processing epoch : 102 / 288 (at most)\n",
      "Processing epoch : 103 / 288 (at most)\n",
      "Processing epoch : 104 / 288 (at most)\n",
      "Processing epoch : 105 / 288 (at most)\n",
      "Processing epoch : 106 / 288 (at most)\n",
      "Processing epoch : 107 / 288 (at most)\n",
      "Processing epoch : 108 / 288 (at most)\n",
      "Processing epoch : 109 / 288 (at most)\n",
      "Processing epoch : 110 / 288 (at most)\n",
      "Processing epoch : 111 / 288 (at most)\n",
      "Processing epoch : 112 / 288 (at most)\n",
      "Processing epoch : 113 / 288 (at most)\n",
      "Processing epoch : 114 / 288 (at most)\n",
      "Processing epoch : 115 / 288 (at most)\n",
      "Processing epoch : 116 / 288 (at most)\n",
      "Processing epoch : 117 / 288 (at most)\n",
      "Processing epoch : 118 / 288 (at most)\n",
      "Processing epoch : 119 / 288 (at most)\n",
      "Processing epoch : 120 / 288 (at most)\n",
      "Processing epoch : 121 / 288 (at most)\n",
      "Processing epoch : 122 / 288 (at most)\n",
      "Processing epoch : 123 / 288 (at most)\n",
      "Processing epoch : 124 / 288 (at most)\n",
      "Processing epoch : 125 / 288 (at most)\n",
      "Processing epoch : 126 / 288 (at most)\n",
      "Processing epoch : 127 / 288 (at most)\n",
      "Processing epoch : 128 / 288 (at most)\n",
      "Processing epoch : 129 / 288 (at most)\n",
      "Processing epoch : 130 / 288 (at most)\n",
      "Processing epoch : 131 / 288 (at most)\n",
      "Processing epoch : 132 / 288 (at most)\n",
      "Processing epoch : 133 / 288 (at most)\n",
      "Processing epoch : 134 / 288 (at most)\n",
      "Processing epoch : 135 / 288 (at most)\n",
      "Processing epoch : 136 / 288 (at most)\n",
      "Processing epoch : 137 / 288 (at most)\n",
      "Processing epoch : 138 / 288 (at most)\n",
      "Processing epoch : 139 / 288 (at most)\n",
      "Processing epoch : 140 / 288 (at most)\n",
      "Processing epoch : 141 / 288 (at most)\n",
      "Processing epoch : 142 / 288 (at most)\n",
      "Processing epoch : 143 / 288 (at most)\n",
      "Processing epoch : 144 / 288 (at most)\n",
      "Processing epoch : 145 / 288 (at most)\n",
      "Processing epoch : 146 / 288 (at most)\n",
      "Processing epoch : 147 / 288 (at most)\n",
      "Processing epoch : 148 / 288 (at most)\n",
      "Processing epoch : 149 / 288 (at most)\n",
      "Processing epoch : 150 / 288 (at most)\n",
      "Processing epoch : 151 / 288 (at most)\n",
      "Processing epoch : 152 / 288 (at most)\n",
      "Processing epoch : 153 / 288 (at most)\n",
      "Processing epoch : 154 / 288 (at most)\n",
      "Processing epoch : 155 / 288 (at most)\n",
      "Processing epoch : 156 / 288 (at most)\n",
      "Processing epoch : 157 / 288 (at most)\n",
      "Processing epoch : 158 / 288 (at most)\n",
      "Processing epoch : 159 / 288 (at most)\n",
      "Processing epoch : 160 / 288 (at most)\n",
      "Processing epoch : 161 / 288 (at most)\n",
      "Processing epoch : 162 / 288 (at most)\n",
      "Processing epoch : 163 / 288 (at most)\n",
      "Processing epoch : 164 / 288 (at most)\n",
      "Processing epoch : 165 / 288 (at most)\n",
      "Processing epoch : 166 / 288 (at most)\n",
      "Processing epoch : 167 / 288 (at most)\n",
      "Processing epoch : 168 / 288 (at most)\n",
      "Processing epoch : 169 / 288 (at most)\n",
      "Processing epoch : 170 / 288 (at most)\n",
      "Processing epoch : 171 / 288 (at most)\n",
      "Processing epoch : 172 / 288 (at most)\n",
      "Processing epoch : 173 / 288 (at most)\n",
      "Processing epoch : 174 / 288 (at most)\n",
      "Processing epoch : 175 / 288 (at most)\n",
      "Processing epoch : 176 / 288 (at most)\n",
      "Processing epoch : 177 / 288 (at most)\n",
      "Processing epoch : 178 / 288 (at most)\n",
      "Processing epoch : 179 / 288 (at most)\n",
      "Processing epoch : 180 / 288 (at most)\n",
      "Processing epoch : 181 / 288 (at most)\n",
      "Processing epoch : 182 / 288 (at most)\n",
      "Processing epoch : 183 / 288 (at most)\n",
      "Processing epoch : 184 / 288 (at most)\n",
      "Processing epoch : 185 / 288 (at most)\n",
      "Processing epoch : 186 / 288 (at most)\n",
      "Processing epoch : 187 / 288 (at most)\n",
      "Processing epoch : 188 / 288 (at most)\n",
      "Processing epoch : 189 / 288 (at most)\n",
      "Processing epoch : 190 / 288 (at most)\n",
      "Processing epoch : 191 / 288 (at most)\n",
      "Processing epoch : 192 / 288 (at most)\n",
      "Processing epoch : 193 / 288 (at most)\n",
      "Processing epoch : 194 / 288 (at most)\n",
      "Processing epoch : 195 / 288 (at most)\n",
      "Processing epoch : 196 / 288 (at most)\n",
      "Processing epoch : 197 / 288 (at most)\n",
      "Processing epoch : 198 / 288 (at most)\n",
      "Processing epoch : 199 / 288 (at most)\n",
      "Processing epoch : 200 / 288 (at most)\n",
      "Processing epoch : 201 / 288 (at most)\n",
      "Processing epoch : 202 / 288 (at most)\n",
      "Processing epoch : 203 / 288 (at most)\n",
      "Processing epoch : 204 / 288 (at most)\n",
      "Processing epoch : 205 / 288 (at most)\n",
      "Processing epoch : 206 / 288 (at most)\n",
      "Processing epoch : 207 / 288 (at most)\n",
      "Processing epoch : 208 / 288 (at most)\n",
      "Processing epoch : 209 / 288 (at most)\n",
      "Processing epoch : 210 / 288 (at most)\n",
      "Processing epoch : 211 / 288 (at most)\n",
      "Processing epoch : 212 / 288 (at most)\n",
      "Processing epoch : 213 / 288 (at most)\n",
      "Processing epoch : 214 / 288 (at most)\n",
      "Processing epoch : 215 / 288 (at most)\n",
      "Processing epoch : 216 / 288 (at most)\n"
     ]
    },
    {
     "name": "stdout",
     "output_type": "stream",
     "text": [
      "Processing epoch : 217 / 288 (at most)\n",
      "Processing epoch : 218 / 288 (at most)\n",
      "Processing epoch : 219 / 288 (at most)\n",
      "Processing epoch : 220 / 288 (at most)\n",
      "Processing epoch : 221 / 288 (at most)\n",
      "Processing epoch : 222 / 288 (at most)\n",
      "Processing epoch : 223 / 288 (at most)\n",
      "Processing epoch : 224 / 288 (at most)\n",
      "Processing epoch : 225 / 288 (at most)\n",
      "Processing epoch : 226 / 288 (at most)\n",
      "Processing epoch : 227 / 288 (at most)\n",
      "Processing epoch : 228 / 288 (at most)\n",
      "Processing epoch : 229 / 288 (at most)\n",
      "Processing epoch : 230 / 288 (at most)\n",
      "Processing epoch : 231 / 288 (at most)\n",
      "Processing epoch : 232 / 288 (at most)\n",
      "Processing epoch : 233 / 288 (at most)\n",
      "Processing epoch : 234 / 288 (at most)\n",
      "Processing epoch : 235 / 288 (at most)\n",
      "Processing epoch : 236 / 288 (at most)\n",
      "Processing epoch : 237 / 288 (at most)\n",
      "Processing epoch : 238 / 288 (at most)\n",
      "Processing epoch : 239 / 288 (at most)\n",
      "Processing epoch : 240 / 288 (at most)\n",
      "Processing epoch : 241 / 288 (at most)\n",
      "Processing epoch : 242 / 288 (at most)\n",
      "Processing epoch : 243 / 288 (at most)\n",
      "Processing epoch : 244 / 288 (at most)\n",
      "Processing epoch : 245 / 288 (at most)\n",
      "Processing epoch : 246 / 288 (at most)\n",
      "Processing epoch : 247 / 288 (at most)\n",
      "Processing epoch : 248 / 288 (at most)\n",
      "Processing epoch : 249 / 288 (at most)\n",
      "Processing epoch : 250 / 288 (at most)\n",
      "Processing epoch : 251 / 288 (at most)\n",
      "Processing epoch : 252 / 288 (at most)\n",
      "Processing epoch : 253 / 288 (at most)\n",
      "Processing epoch : 254 / 288 (at most)\n",
      "Processing epoch : 255 / 288 (at most)\n",
      "Processing epoch : 256 / 288 (at most)\n",
      "Processing epoch : 257 / 288 (at most)\n",
      "Processing epoch : 258 / 288 (at most)\n",
      "Processing epoch : 259 / 288 (at most)\n",
      "Processing epoch : 260 / 288 (at most)\n",
      "Processing epoch : 261 / 288 (at most)\n",
      "Processing epoch : 262 / 288 (at most)\n",
      "Processing epoch : 263 / 288 (at most)\n",
      "Processing epoch : 264 / 288 (at most)\n",
      "Processing epoch : 265 / 288 (at most)\n",
      "Processing epoch : 266 / 288 (at most)\n",
      "Processing epoch : 267 / 288 (at most)\n",
      "Processing epoch : 268 / 288 (at most)\n",
      "Processing epoch : 269 / 288 (at most)\n",
      "Processing epoch : 270 / 288 (at most)\n",
      "Processing epoch : 271 / 288 (at most)\n",
      "Processing epoch : 272 / 288 (at most)\n",
      "Processing epoch : 273 / 288 (at most)\n",
      "Processing epoch : 274 / 288 (at most)\n",
      "Processing epoch : 275 / 288 (at most)\n",
      "Processing epoch : 276 / 288 (at most)\n",
      "Processing epoch : 277 / 288 (at most)\n",
      "Processing epoch : 278 / 288 (at most)\n",
      "Processing epoch : 279 / 288 (at most)\n",
      "Processing epoch : 280 / 288 (at most)\n",
      "Processing epoch : 281 / 288 (at most)\n",
      "Processing epoch : 282 / 288 (at most)\n",
      "Processing epoch : 283 / 288 (at most)\n",
      "Processing epoch : 284 / 288 (at most)\n",
      "Processing epoch : 285 / 288 (at most)\n",
      "Processing epoch : 286 / 288 (at most)\n",
      "Processing epoch : 287 / 288 (at most)\n",
      "Processing epoch : 288 / 288 (at most)\n",
      "[done]\n"
     ]
    }
   ],
   "source": [
    "epochs.decimate(2)\n",
    "epochs_stc = mne.minimum_norm.apply_inverse_epochs(epochs, inv, lambda2=0.1111)"
   ]
  },
  {
   "cell_type": "code",
   "execution_count": 6,
   "metadata": {},
   "outputs": [],
   "source": [
    "import mne_rsa\n",
    "import numpy as np"
   ]
  },
  {
   "cell_type": "code",
   "execution_count": 8,
   "metadata": {},
   "outputs": [
    {
     "name": "stderr",
     "output_type": "stream",
     "text": [
      " 41%|████████████████████████▍                                  | 239534/577346 [01:06<01:34, 3588.40it/s]"
     ]
    },
    {
     "ename": "KeyboardInterrupt",
     "evalue": "",
     "output_type": "error",
     "traceback": [
      "\u001b[1;31m---------------------------------------------------------------------------\u001b[0m",
      "\u001b[1;31mKeyboardInterrupt\u001b[0m                         Traceback (most recent call last)",
      "\u001b[1;32m<ipython-input-8-9847f8ebd6fe>\u001b[0m in \u001b[0;36m<module>\u001b[1;34m\u001b[0m\n\u001b[1;32m----> 1\u001b[1;33m \u001b[0mdsms\u001b[0m \u001b[1;33m=\u001b[0m \u001b[0mlist\u001b[0m\u001b[1;33m(\u001b[0m\u001b[0mmne_rsa\u001b[0m\u001b[1;33m.\u001b[0m\u001b[0mdsm_source_level\u001b[0m\u001b[1;33m(\u001b[0m\u001b[0mepochs_stc\u001b[0m\u001b[1;33m,\u001b[0m \u001b[0minv\u001b[0m\u001b[1;33m[\u001b[0m\u001b[1;34m'src'\u001b[0m\u001b[1;33m]\u001b[0m\u001b[1;33m,\u001b[0m \u001b[0my\u001b[0m\u001b[1;33m=\u001b[0m\u001b[0mepochs\u001b[0m\u001b[1;33m.\u001b[0m\u001b[0mevents\u001b[0m\u001b[1;33m[\u001b[0m\u001b[1;33m:\u001b[0m\u001b[1;33m,\u001b[0m \u001b[1;36m2\u001b[0m\u001b[1;33m]\u001b[0m\u001b[1;33m,\u001b[0m \u001b[0mn_folds\u001b[0m\u001b[1;33m=\u001b[0m\u001b[1;36m5\u001b[0m\u001b[1;33m,\u001b[0m \u001b[0mverbose\u001b[0m\u001b[1;33m=\u001b[0m\u001b[1;32mTrue\u001b[0m\u001b[1;33m)\u001b[0m\u001b[1;33m)\u001b[0m\u001b[1;33m\u001b[0m\u001b[1;33m\u001b[0m\u001b[0m\n\u001b[0m",
      "\u001b[1;32mc:\\users\\wmvan\\projects\\mne-rsa\\mne_rsa\\source_level.py\u001b[0m in \u001b[0;36mdsm_source_level\u001b[1;34m(stcs, src, spatial_radius, temporal_radius, dist_metric, dist_params, y, n_folds, sel_vertices, tmin, tmax, verbose)\u001b[0m\n\u001b[0;32m    257\u001b[0m                          \u001b[0mdist_metric\u001b[0m\u001b[1;33m=\u001b[0m\u001b[0mdist_metric\u001b[0m\u001b[1;33m,\u001b[0m \u001b[0mdist_params\u001b[0m\u001b[1;33m=\u001b[0m\u001b[0mdist_params\u001b[0m\u001b[1;33m,\u001b[0m \u001b[0my\u001b[0m\u001b[1;33m=\u001b[0m\u001b[0my\u001b[0m\u001b[1;33m,\u001b[0m\u001b[1;33m\u001b[0m\u001b[1;33m\u001b[0m\u001b[0m\n\u001b[0;32m    258\u001b[0m                          \u001b[0mn_folds\u001b[0m\u001b[1;33m=\u001b[0m\u001b[0mn_folds\u001b[0m\u001b[1;33m,\u001b[0m \u001b[0msel_series\u001b[0m\u001b[1;33m=\u001b[0m\u001b[0msel_vertices\u001b[0m\u001b[1;33m,\u001b[0m\u001b[1;33m\u001b[0m\u001b[1;33m\u001b[0m\u001b[0m\n\u001b[1;32m--> 259\u001b[1;33m                          sel_times=sel_times, verbose=verbose)\n\u001b[0m\u001b[0;32m    260\u001b[0m \u001b[1;33m\u001b[0m\u001b[0m\n\u001b[0;32m    261\u001b[0m \u001b[1;33m\u001b[0m\u001b[0m\n",
      "\u001b[1;32mc:\\users\\wmvan\\projects\\mne-rsa\\mne_rsa\\dsm.py\u001b[0m in \u001b[0;36mdsm_array\u001b[1;34m(X, dist, spatial_radius, temporal_radius, dist_metric, dist_params, y, n_folds, sel_series, sel_times, verbose)\u001b[0m\n\u001b[0;32m    547\u001b[0m         yield from dsm_spattemp(\n\u001b[0;32m    548\u001b[0m             \u001b[0mX\u001b[0m\u001b[1;33m,\u001b[0m \u001b[0mdist\u001b[0m\u001b[1;33m,\u001b[0m \u001b[0mspatial_radius\u001b[0m\u001b[1;33m,\u001b[0m \u001b[0mtemporal_radius\u001b[0m\u001b[1;33m,\u001b[0m \u001b[0mdist_metric\u001b[0m\u001b[1;33m,\u001b[0m \u001b[0mdist_params\u001b[0m\u001b[1;33m,\u001b[0m\u001b[1;33m\u001b[0m\u001b[1;33m\u001b[0m\u001b[0m\n\u001b[1;32m--> 549\u001b[1;33m             y, n_folds, sel_series, sel_times, verbose=verbose)\n\u001b[0m\u001b[0;32m    550\u001b[0m \u001b[1;33m\u001b[0m\u001b[0m\n\u001b[0;32m    551\u001b[0m     \u001b[1;31m# Spatial searchlight\u001b[0m\u001b[1;33m\u001b[0m\u001b[1;33m\u001b[0m\u001b[1;33m\u001b[0m\u001b[0m\n",
      "\u001b[1;32mc:\\users\\wmvan\\projects\\mne-rsa\\mne_rsa\\dsm.py\u001b[0m in \u001b[0;36mdsm_spattemp\u001b[1;34m(data, dist, spatial_radius, temporal_radius, dist_metric, dist_params, y, n_folds, sel_series, sel_times, verbose)\u001b[0m\n\u001b[0;32m    251\u001b[0m                 \u001b[1;33m:\u001b[0m\u001b[1;33m,\u001b[0m \u001b[1;33m:\u001b[0m\u001b[1;33m,\u001b[0m\u001b[1;33m\u001b[0m\u001b[1;33m\u001b[0m\u001b[0m\n\u001b[0;32m    252\u001b[0m                 \u001b[0mnp\u001b[0m\u001b[1;33m.\u001b[0m\u001b[0mflatnonzero\u001b[0m\u001b[1;33m(\u001b[0m\u001b[0mdist\u001b[0m\u001b[1;33m[\u001b[0m\u001b[0mseries\u001b[0m\u001b[1;33m]\u001b[0m \u001b[1;33m<\u001b[0m \u001b[0mspatial_radius\u001b[0m\u001b[1;33m)\u001b[0m\u001b[1;33m,\u001b[0m \u001b[1;33m...\u001b[0m\u001b[1;33m,\u001b[0m\u001b[1;33m\u001b[0m\u001b[1;33m\u001b[0m\u001b[0m\n\u001b[1;32m--> 253\u001b[1;33m                 \u001b[0msample\u001b[0m \u001b[1;33m-\u001b[0m \u001b[0mtemporal_radius\u001b[0m\u001b[1;33m:\u001b[0m\u001b[0msample\u001b[0m \u001b[1;33m+\u001b[0m \u001b[0mtemporal_radius\u001b[0m\u001b[1;33m\u001b[0m\u001b[1;33m\u001b[0m\u001b[0m\n\u001b[0m\u001b[0;32m    254\u001b[0m             ]\n\u001b[0;32m    255\u001b[0m             \u001b[1;32mif\u001b[0m \u001b[0mlen\u001b[0m\u001b[1;33m(\u001b[0m\u001b[0mfolds\u001b[0m\u001b[1;33m)\u001b[0m \u001b[1;33m==\u001b[0m \u001b[1;36m1\u001b[0m\u001b[1;33m:\u001b[0m\u001b[1;33m\u001b[0m\u001b[1;33m\u001b[0m\u001b[0m\n",
      "\u001b[1;31mKeyboardInterrupt\u001b[0m: "
     ]
    }
   ],
   "source": [
    "dsms = list(mne_rsa.dsm_source_level(epochs_stc, inv['src'], y=epochs.events[:, 2], n_folds=5, verbose=True))"
   ]
  },
  {
   "cell_type": "code",
   "execution_count": 22,
   "metadata": {},
   "outputs": [
    {
     "name": "stderr",
     "output_type": "stream",
     "text": [
      "[Parallel(n_jobs=6)]: Using backend LokyBackend with 6 concurrent workers.\n",
      "[Parallel(n_jobs=6)]: Done   2 out of   6 | elapsed:  1.0min remaining:  2.0min\n",
      "[Parallel(n_jobs=6)]: Done   6 out of   6 | elapsed:  1.0min finished\n"
     ]
    }
   ],
   "source": [
    "model_dsm = np.array([\n",
    "    [0, 0.5, 1, 1],\n",
    "    [0.5, 0, 1, 1],\n",
    "    [1, 1, 0, 1],\n",
    "    [1, 1, 1, 0],\n",
    "])\n",
    "rsa_vals = mne_rsa.rsa_source_level(epochs_stc, model_dsm, inv['src'], y=epochs.events[:, 2], n_folds=5, n_jobs=6, verbose=True, stc_dsm_metric='sqeuclidean', spatial_radius=0.01)"
   ]
  },
  {
   "cell_type": "code",
   "execution_count": 23,
   "metadata": {},
   "outputs": [
    {
     "name": "stdout",
     "output_type": "stream",
     "text": [
      "Using control points [0.65465367 0.65465367 0.65465367]\n",
      "<Brain subject_id=\"sample\", hemi=\"both\", surf=\"inflated\">\n"
     ]
    }
   ],
   "source": [
    "rsa_vals.plot('sample', hemi='both', subjects_dir=subjects_dir)"
   ]
  },
  {
   "cell_type": "code",
   "execution_count": null,
   "metadata": {},
   "outputs": [],
   "source": [
    "np.array(dsms).shape"
   ]
  },
  {
   "cell_type": "code",
   "execution_count": 13,
   "metadata": {},
   "outputs": [],
   "source": [
    "stc = epochs_stc[0]"
   ]
  },
  {
   "cell_type": "code",
   "execution_count": 17,
   "metadata": {},
   "outputs": [
    {
     "data": {
      "text/plain": [
       "<SourceEstimate  |  7498 vertices, subject : sample, tmin : -189.79521315838784 (ms), tmax : 490.2047868416122 (ms), tstep : 20.0 (ms), data shape : (7498, 35)>"
      ]
     },
     "execution_count": 17,
     "metadata": {},
     "output_type": "execute_result"
    }
   ],
   "source": [
    "stc.copy().bin(0.02)"
   ]
  },
  {
   "cell_type": "code",
   "execution_count": 16,
   "metadata": {},
   "outputs": [
    {
     "data": {
      "text/plain": [
       "<SourceEstimate  |  7498 vertices, subject : sample, tmin : -199.79521315838787 (ms), tmax : 499.48803289596964 (ms), tstep : 6.659840438612929 (ms), data shape : (7498, 106)>"
      ]
     },
     "execution_count": 16,
     "metadata": {},
     "output_type": "execute_result"
    }
   ],
   "source": [
    "epochs_stc[0]"
   ]
  },
  {
   "cell_type": "code",
   "execution_count": null,
   "metadata": {},
   "outputs": [],
   "source": []
  }
 ],
 "metadata": {
  "kernelspec": {
   "display_name": "Python 3",
   "language": "python",
   "name": "python3"
  },
  "language_info": {
   "codemirror_mode": {
    "name": "ipython",
    "version": 3
   },
   "file_extension": ".py",
   "mimetype": "text/x-python",
   "name": "python",
   "nbconvert_exporter": "python",
   "pygments_lexer": "ipython3",
   "version": "3.6.10"
  }
 },
 "nbformat": 4,
 "nbformat_minor": 2
}
