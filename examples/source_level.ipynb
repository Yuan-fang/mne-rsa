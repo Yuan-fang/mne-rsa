{
 "cells": [
  {
   "cell_type": "code",
   "execution_count": 1,
   "metadata": {},
   "outputs": [],
   "source": [
    "%gui qt\n",
    "import os.path as op\n",
    "import mne\n",
    "\n",
    "sample_path = mne.datasets.sample.data_path()\n",
    "data_path = op.join(sample_path, 'MEG', 'sample')\n",
    "subjects_dir = op.join(sample_path, 'subjects')"
   ]
  },
  {
   "cell_type": "code",
   "execution_count": 2,
   "metadata": {},
   "outputs": [],
   "source": [
    "inv = mne.minimum_norm.read_inverse_operator(op.join(data_path, 'sample_audvis-meg-oct-6-meg-fixed-inv.fif'))"
   ]
  },
  {
   "cell_type": "code",
   "execution_count": 3,
   "metadata": {},
   "outputs": [],
   "source": [
    "raw = mne.io.read_raw_fif(op.join(data_path, 'sample_audvis_filt-0-40_raw.fif'))\n",
    "events = mne.read_events(op.join(data_path, 'sample_audvis_filt-0-40_raw-eve.fif'))\n",
    "event_id = {'audio/left': 1,\n",
    "            'audio/right': 2,\n",
    "            'visual/left': 3,\n",
    "            'visual/right': 4}\n",
    "epochs = mne.Epochs(raw, events, event_id)"
   ]
  },
  {
   "cell_type": "code",
   "execution_count": 4,
   "metadata": {},
   "outputs": [],
   "source": [
    "src = mne.read_source_spaces(op.join(subjects_dir, 'sample', 'bem', 'sample-all-src.fif'))"
   ]
  },
  {
   "cell_type": "code",
   "execution_count": 5,
   "metadata": {},
   "outputs": [],
   "source": [
    "epochs_stc = mne.minimum_norm.apply_inverse_epochs(epochs, inv, lambda2=0.1111)"
   ]
  },
  {
   "cell_type": "code",
   "execution_count": 6,
   "metadata": {},
   "outputs": [],
   "source": [
    "import rsa\n",
    "import numpy as np"
   ]
  },
  {
   "cell_type": "code",
   "execution_count": 7,
   "metadata": {},
   "outputs": [
    {
     "ename": "NameError",
     "evalue": "name '_get_time_patch_centers' is not defined",
     "output_type": "error",
     "traceback": [
      "\u001b[1;31m---------------------------------------------------------------------------\u001b[0m",
      "\u001b[1;31mNameError\u001b[0m                                 Traceback (most recent call last)",
      "\u001b[1;32m<ipython-input-7-14495b4fefbc>\u001b[0m in \u001b[0;36m<module>\u001b[1;34m\u001b[0m\n\u001b[1;32m----> 1\u001b[1;33m \u001b[0mdsms\u001b[0m \u001b[1;33m=\u001b[0m \u001b[0mlist\u001b[0m\u001b[1;33m(\u001b[0m\u001b[0mrsa\u001b[0m\u001b[1;33m.\u001b[0m\u001b[0mdsm_epochs\u001b[0m\u001b[1;33m(\u001b[0m\u001b[0mepochs\u001b[0m\u001b[1;33m,\u001b[0m \u001b[0my\u001b[0m\u001b[1;33m=\u001b[0m\u001b[0mepochs\u001b[0m\u001b[1;33m.\u001b[0m\u001b[0mevents\u001b[0m\u001b[1;33m[\u001b[0m\u001b[1;33m:\u001b[0m\u001b[1;33m,\u001b[0m \u001b[1;36m2\u001b[0m\u001b[1;33m]\u001b[0m\u001b[1;33m,\u001b[0m \u001b[0mn_folds\u001b[0m\u001b[1;33m=\u001b[0m\u001b[1;36m5\u001b[0m\u001b[1;33m,\u001b[0m \u001b[0mverbose\u001b[0m\u001b[1;33m=\u001b[0m\u001b[1;32mTrue\u001b[0m\u001b[1;33m)\u001b[0m\u001b[1;33m)\u001b[0m\u001b[1;33m\u001b[0m\u001b[1;33m\u001b[0m\u001b[0m\n\u001b[0m",
      "\u001b[1;32m/m/home/home4/45/vanvlm1/data/projects/rsa/rsa/sensor_level.py\u001b[0m in \u001b[0;36mdsm_epochs\u001b[1;34m(epochs, noise_cov, spatial_radius, temporal_radius, dist_metric, dist_params, y, n_folds, verbose)\u001b[0m\n\u001b[0;32m    382\u001b[0m                          \u001b[0mtemporal_radius\u001b[0m\u001b[1;33m=\u001b[0m\u001b[0mtemporal_radius\u001b[0m\u001b[1;33m,\u001b[0m\u001b[1;33m\u001b[0m\u001b[1;33m\u001b[0m\u001b[0m\n\u001b[0;32m    383\u001b[0m                          \u001b[0mdist_metric\u001b[0m\u001b[1;33m=\u001b[0m\u001b[0mdist_metric\u001b[0m\u001b[1;33m,\u001b[0m \u001b[0mdist_params\u001b[0m\u001b[1;33m=\u001b[0m\u001b[0mdist_params\u001b[0m\u001b[1;33m,\u001b[0m \u001b[0my\u001b[0m\u001b[1;33m=\u001b[0m\u001b[0my\u001b[0m\u001b[1;33m,\u001b[0m\u001b[1;33m\u001b[0m\u001b[1;33m\u001b[0m\u001b[0m\n\u001b[1;32m--> 384\u001b[1;33m                          n_folds=n_folds, verbose=verbose)\n\u001b[0m",
      "\u001b[1;32m/m/home/home4/45/vanvlm1/data/projects/rsa/rsa/dsm.py\u001b[0m in \u001b[0;36mdsm_array\u001b[1;34m(X, dist, spatial_radius, temporal_radius, dist_metric, dist_params, y, n_folds, verbose)\u001b[0m\n\u001b[0;32m    508\u001b[0m         yield from dsm_spattemp(\n\u001b[0;32m    509\u001b[0m             \u001b[0mX\u001b[0m\u001b[1;33m,\u001b[0m \u001b[0mdist\u001b[0m\u001b[1;33m,\u001b[0m \u001b[0mspatial_radius\u001b[0m\u001b[1;33m,\u001b[0m \u001b[0mtemporal_radius\u001b[0m\u001b[1;33m,\u001b[0m \u001b[0mdist_metric\u001b[0m\u001b[1;33m,\u001b[0m \u001b[0mdist_params\u001b[0m\u001b[1;33m,\u001b[0m\u001b[1;33m\u001b[0m\u001b[1;33m\u001b[0m\u001b[0m\n\u001b[1;32m--> 510\u001b[1;33m             y, n_folds, verbose)\n\u001b[0m\u001b[0;32m    511\u001b[0m \u001b[1;33m\u001b[0m\u001b[0m\n\u001b[0;32m    512\u001b[0m     \u001b[1;31m# Spatial RSA\u001b[0m\u001b[1;33m\u001b[0m\u001b[1;33m\u001b[0m\u001b[1;33m\u001b[0m\u001b[0m\n",
      "\u001b[1;32m/m/home/home4/45/vanvlm1/data/projects/rsa/rsa/dsm.py\u001b[0m in \u001b[0;36mdsm_spattemp\u001b[1;34m(data, dist, spatial_radius, temporal_radius, dist_metric, dist_params, y, n_folds, sel_series, verbose)\u001b[0m\n\u001b[0;32m    217\u001b[0m         \u001b[0msel_series\u001b[0m \u001b[1;33m=\u001b[0m \u001b[0mrange\u001b[0m\u001b[1;33m(\u001b[0m\u001b[0mn_series\u001b[0m\u001b[1;33m)\u001b[0m\u001b[1;33m\u001b[0m\u001b[1;33m\u001b[0m\u001b[0m\n\u001b[0;32m    218\u001b[0m \u001b[1;33m\u001b[0m\u001b[0m\n\u001b[1;32m--> 219\u001b[1;33m     \u001b[0mcenters\u001b[0m \u001b[1;33m=\u001b[0m \u001b[0m_get_time_patch_centers\u001b[0m\u001b[1;33m(\u001b[0m\u001b[0mn_samples\u001b[0m\u001b[1;33m,\u001b[0m \u001b[0mtemporal_radius\u001b[0m\u001b[1;33m)\u001b[0m\u001b[1;33m\u001b[0m\u001b[1;33m\u001b[0m\u001b[0m\n\u001b[0m\u001b[0;32m    220\u001b[0m \u001b[1;33m\u001b[0m\u001b[0m\n\u001b[0;32m    221\u001b[0m     \u001b[1;32mif\u001b[0m \u001b[0mverbose\u001b[0m\u001b[1;33m:\u001b[0m\u001b[1;33m\u001b[0m\u001b[1;33m\u001b[0m\u001b[0m\n",
      "\u001b[1;31mNameError\u001b[0m: name '_get_time_patch_centers' is not defined"
     ]
    }
   ],
   "source": [
    "dsms = list(rsa.dsm_epochs(epochs, y=epochs.events[:, 2], n_folds=5, verbose=True))"
   ]
  },
  {
   "cell_type": "code",
   "execution_count": null,
   "metadata": {},
   "outputs": [],
   "source": [
    "model_dsm = np.array([\n",
    "    [0, 0.5, 1, 1],\n",
    "    [0.5, 0, 1, 1],\n",
    "    [1, 1, 0, 0.5],\n",
    "    [1, 1, 0.5, 0],\n",
    "])\n",
    "rsa_vals = rsa.rsa_source_level(epochs_stc, model_dsm, inv['src'], y=epochs.events[:, 2], n_folds=5, n_jobs=4, verbose=True, stc_dsm_metric='sqeuclidean')"
   ]
  },
  {
   "cell_type": "code",
   "execution_count": null,
   "metadata": {},
   "outputs": [],
   "source": [
    "rsa_vals.plot('sample', hemi='both', subjects_dir=subjects_dir)"
   ]
  },
  {
   "cell_type": "code",
   "execution_count": null,
   "metadata": {},
   "outputs": [],
   "source": []
  }
 ],
 "metadata": {
  "kernelspec": {
   "display_name": "Python 3",
   "language": "python",
   "name": "python3"
  },
  "language_info": {
   "codemirror_mode": {
    "name": "ipython",
    "version": 3
   },
   "file_extension": ".py",
   "mimetype": "text/x-python",
   "name": "python",
   "nbconvert_exporter": "python",
   "pygments_lexer": "ipython3",
   "version": "3.6.9"
  }
 },
 "nbformat": 4,
 "nbformat_minor": 2
}
