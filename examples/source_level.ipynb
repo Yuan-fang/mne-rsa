{
 "cells": [
  {
   "cell_type": "code",
   "execution_count": 1,
   "metadata": {},
   "outputs": [],
   "source": [
    "%gui qt\n",
    "import os.path as op\n",
    "import mne\n",
    "\n",
    "sample_path = mne.datasets.sample.data_path()\n",
    "data_path = op.join(sample_path, 'MEG', 'sample')\n",
    "subjects_dir = op.join(sample_path, 'subjects')"
   ]
  },
  {
   "cell_type": "code",
   "execution_count": 2,
   "metadata": {},
   "outputs": [],
   "source": [
    "inv = mne.minimum_norm.read_inverse_operator(op.join(data_path, 'sample_audvis-meg-oct-6-meg-fixed-inv.fif'))"
   ]
  },
  {
   "cell_type": "code",
   "execution_count": 3,
   "metadata": {},
   "outputs": [],
   "source": [
    "raw = mne.io.read_raw_fif(op.join(data_path, 'sample_audvis_filt-0-40_raw.fif'))\n",
    "events = mne.read_events(op.join(data_path, 'sample_audvis_filt-0-40_raw-eve.fif'))\n",
    "event_id = {'audio/left': 1,\n",
    "            'audio/right': 2,\n",
    "            'visual/left': 3,\n",
    "            'visual/right': 4}\n",
    "epochs = mne.Epochs(raw, events, event_id)"
   ]
  },
  {
   "cell_type": "code",
   "execution_count": 4,
   "metadata": {},
   "outputs": [],
   "source": [
    "src = mne.read_source_spaces(op.join(subjects_dir, 'sample', 'bem', 'sample-all-src.fif'))"
   ]
  },
  {
   "cell_type": "code",
   "execution_count": 5,
   "metadata": {},
   "outputs": [],
   "source": [
    "epochs_stc = mne.minimum_norm.apply_inverse_epochs(epochs, inv, lambda2=0.1111)"
   ]
  },
  {
   "cell_type": "code",
   "execution_count": 6,
   "metadata": {},
   "outputs": [],
   "source": [
    "import rsa\n",
    "import numpy as np"
   ]
  },
  {
   "cell_type": "code",
   "execution_count": 7,
   "metadata": {},
   "outputs": [
    {
     "name": "stderr",
     "output_type": "stream",
     "text": [
      "[Parallel(n_jobs=4)]: Using backend LokyBackend with 4 concurrent workers.\n",
      "[Parallel(n_jobs=4)]: Done   2 out of   4 | elapsed:  2.1min remaining:  2.1min\n",
      "[Parallel(n_jobs=4)]: Done   4 out of   4 | elapsed:  2.2min finished\n"
     ]
    }
   ],
   "source": [
    "model_dsm = np.array([\n",
    "    [0, 0.5, 1, 1],\n",
    "    [0.5, 0, 1, 1],\n",
    "    [1, 1, 0, 0.5],\n",
    "    [1, 1, 0.5, 0],\n",
    "])\n",
    "rsa_vals = rsa.rsa_source_level(epochs_stc, model_dsm, inv['src'], y=epochs.events[:, 2], n_folds=5, n_jobs=4, verbose=True, stc_dsm_metric='sqeuclidean')"
   ]
  },
  {
   "cell_type": "code",
   "execution_count": 8,
   "metadata": {},
   "outputs": [
    {
     "name": "stdout",
     "output_type": "stream",
     "text": [
      "<Brain subject_id=\"sample\", hemi=\"both\", surf=\"inflated\">\n"
     ]
    }
   ],
   "source": [
    "rsa_vals.plot('sample', hemi='both', subjects_dir=subjects_dir)"
   ]
  },
  {
   "cell_type": "code",
   "execution_count": null,
   "metadata": {},
   "outputs": [],
   "source": []
  }
 ],
 "metadata": {
  "kernelspec": {
   "display_name": "Python 3",
   "language": "python",
   "name": "python3"
  },
  "language_info": {
   "codemirror_mode": {
    "name": "ipython",
    "version": 3
   },
   "file_extension": ".py",
   "mimetype": "text/x-python",
   "name": "python",
   "nbconvert_exporter": "python",
   "pygments_lexer": "ipython3",
   "version": "3.6.9"
  }
 },
 "nbformat": 4,
 "nbformat_minor": 2
}
