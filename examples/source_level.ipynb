{
 "cells": [
  {
   "cell_type": "code",
   "execution_count": 1,
   "metadata": {},
   "outputs": [],
   "source": [
    "%gui qt\n",
    "import os.path as op\n",
    "import mne\n",
    "\n",
    "sample_path = mne.datasets.sample.data_path()\n",
    "data_path = op.join(sample_path, 'MEG', 'sample')\n",
    "subjects_dir = op.join(sample_path, 'subjects')"
   ]
  },
  {
   "cell_type": "code",
   "execution_count": 2,
   "metadata": {},
   "outputs": [
    {
     "name": "stdout",
     "output_type": "stream",
     "text": [
      "Reading inverse operator decomposition from C:\\Users\\wmvan\\mne_data\\MNE-sample-data\\MEG\\sample\\sample_audvis-meg-oct-6-meg-fixed-inv.fif...\n",
      "    Reading inverse operator info...\n",
      "    [done]\n",
      "    Reading inverse operator decomposition...\n",
      "    [done]\n",
      "    305 x 305 full covariance (kind = 1) found.\n",
      "    Read a total of 4 projection items:\n",
      "        PCA-v1 (1 x 102) active\n",
      "        PCA-v2 (1 x 102) active\n",
      "        PCA-v3 (1 x 102) active\n",
      "        Average EEG reference (1 x 60) active\n",
      "    Noise covariance matrix read.\n",
      "    7498 x 7498 diagonal covariance (kind = 2) found.\n",
      "    Source covariance matrix read.\n",
      "    Did not find the desired covariance matrix (kind = 6)\n",
      "    7498 x 7498 diagonal covariance (kind = 5) found.\n",
      "    Depth priors read.\n",
      "    Did not find the desired covariance matrix (kind = 3)\n",
      "    Reading a source space...\n",
      "    Computing patch statistics...\n",
      "    Patch information added...\n",
      "    Distance information added...\n",
      "    [done]\n",
      "    Reading a source space...\n",
      "    Computing patch statistics...\n",
      "    Patch information added...\n",
      "    Distance information added...\n",
      "    [done]\n",
      "    2 source spaces read\n",
      "    Read a total of 4 projection items:\n",
      "        PCA-v1 (1 x 102) active\n",
      "        PCA-v2 (1 x 102) active\n",
      "        PCA-v3 (1 x 102) active\n",
      "        Average EEG reference (1 x 60) active\n",
      "    Source spaces transformed to the inverse solution coordinate frame\n"
     ]
    }
   ],
   "source": [
    "inv = mne.minimum_norm.read_inverse_operator(op.join(data_path, 'sample_audvis-meg-oct-6-meg-fixed-inv.fif'))"
   ]
  },
  {
   "cell_type": "code",
   "execution_count": 3,
   "metadata": {},
   "outputs": [
    {
     "name": "stdout",
     "output_type": "stream",
     "text": [
      "Opening raw data file C:\\Users\\wmvan\\mne_data\\MNE-sample-data\\MEG\\sample\\sample_audvis_filt-0-40_raw.fif...\n",
      "    Read a total of 4 projection items:\n",
      "        PCA-v1 (1 x 102)  idle\n",
      "        PCA-v2 (1 x 102)  idle\n",
      "        PCA-v3 (1 x 102)  idle\n",
      "        Average EEG reference (1 x 60)  idle\n",
      "    Range : 6450 ... 48149 =     42.956 ...   320.665 secs\n",
      "Ready.\n",
      "Current compensation grade : 0\n",
      "288 matching events found\n",
      "Applying baseline correction (mode: mean)\n",
      "Not setting metadata\n",
      "Created an SSP operator (subspace dimension = 4)\n",
      "4 projection items activated\n"
     ]
    }
   ],
   "source": [
    "raw = mne.io.read_raw_fif(op.join(data_path, 'sample_audvis_filt-0-40_raw.fif'))\n",
    "events = mne.read_events(op.join(data_path, 'sample_audvis_filt-0-40_raw-eve.fif'))\n",
    "event_id = {'audio/left': 1,\n",
    "            'audio/right': 2,\n",
    "            'visual/left': 3,\n",
    "            'visual/right': 4}\n",
    "epochs = mne.Epochs(raw, events, event_id)"
   ]
  },
  {
   "cell_type": "code",
   "execution_count": 4,
   "metadata": {},
   "outputs": [
    {
     "name": "stdout",
     "output_type": "stream",
     "text": [
      "    Reading a source space...\n",
      "    [done]\n",
      "    Reading a source space...\n",
      "    [done]\n",
      "    2 source spaces read\n"
     ]
    }
   ],
   "source": [
    "src = mne.read_source_spaces(op.join(subjects_dir, 'sample', 'bem', 'sample-all-src.fif'))"
   ]
  },
  {
   "cell_type": "code",
   "execution_count": 5,
   "metadata": {},
   "outputs": [
    {
     "name": "stdout",
     "output_type": "stream",
     "text": [
      "Preparing the inverse operator for use...\n",
      "    Scaled noise and source covariance from nave = 1 to nave = 1\n",
      "    Created the regularized inverter\n",
      "    Created an SSP operator (subspace dimension = 3)\n",
      "    Created the whitener using a noise covariance matrix with rank 302 (3 small eigenvalues omitted)\n",
      "    Computing noise-normalization factors (dSPM)...\n",
      "[done]\n",
      "Picked 305 channels from the data\n",
      "Computing inverse...\n",
      "    Eigenleads need to be weighted ...\n",
      "Processing epoch : 1 / 288 (at most)\n",
      "Processing epoch : 2 / 288 (at most)\n",
      "Processing epoch : 3 / 288 (at most)\n",
      "Processing epoch : 4 / 288 (at most)\n",
      "Processing epoch : 5 / 288 (at most)\n",
      "Processing epoch : 6 / 288 (at most)\n",
      "Processing epoch : 7 / 288 (at most)\n",
      "Processing epoch : 8 / 288 (at most)\n",
      "Processing epoch : 9 / 288 (at most)\n",
      "Processing epoch : 10 / 288 (at most)\n",
      "Processing epoch : 11 / 288 (at most)\n",
      "Processing epoch : 12 / 288 (at most)\n",
      "Processing epoch : 13 / 288 (at most)\n",
      "Processing epoch : 14 / 288 (at most)\n",
      "Processing epoch : 15 / 288 (at most)\n",
      "Processing epoch : 16 / 288 (at most)\n",
      "Processing epoch : 17 / 288 (at most)\n",
      "Processing epoch : 18 / 288 (at most)\n",
      "Processing epoch : 19 / 288 (at most)\n",
      "Processing epoch : 20 / 288 (at most)\n",
      "Processing epoch : 21 / 288 (at most)\n",
      "Processing epoch : 22 / 288 (at most)\n",
      "Processing epoch : 23 / 288 (at most)\n",
      "Processing epoch : 24 / 288 (at most)\n",
      "Processing epoch : 25 / 288 (at most)\n",
      "Processing epoch : 26 / 288 (at most)\n",
      "Processing epoch : 27 / 288 (at most)\n",
      "Processing epoch : 28 / 288 (at most)\n",
      "Processing epoch : 29 / 288 (at most)\n",
      "Processing epoch : 30 / 288 (at most)\n",
      "Processing epoch : 31 / 288 (at most)\n",
      "Processing epoch : 32 / 288 (at most)\n",
      "Processing epoch : 33 / 288 (at most)\n",
      "Processing epoch : 34 / 288 (at most)\n",
      "Processing epoch : 35 / 288 (at most)\n",
      "Processing epoch : 36 / 288 (at most)\n",
      "Processing epoch : 37 / 288 (at most)\n",
      "Processing epoch : 38 / 288 (at most)\n",
      "Processing epoch : 39 / 288 (at most)\n",
      "Processing epoch : 40 / 288 (at most)\n",
      "Processing epoch : 41 / 288 (at most)\n",
      "Processing epoch : 42 / 288 (at most)\n",
      "Processing epoch : 43 / 288 (at most)\n",
      "Processing epoch : 44 / 288 (at most)\n",
      "Processing epoch : 45 / 288 (at most)\n",
      "Processing epoch : 46 / 288 (at most)\n",
      "Processing epoch : 47 / 288 (at most)\n",
      "Processing epoch : 48 / 288 (at most)\n",
      "Processing epoch : 49 / 288 (at most)\n",
      "Processing epoch : 50 / 288 (at most)\n",
      "Processing epoch : 51 / 288 (at most)\n",
      "Processing epoch : 52 / 288 (at most)\n",
      "Processing epoch : 53 / 288 (at most)\n",
      "Processing epoch : 54 / 288 (at most)\n",
      "Processing epoch : 55 / 288 (at most)\n",
      "Processing epoch : 56 / 288 (at most)\n",
      "Processing epoch : 57 / 288 (at most)\n",
      "Processing epoch : 58 / 288 (at most)\n",
      "Processing epoch : 59 / 288 (at most)\n",
      "Processing epoch : 60 / 288 (at most)\n",
      "Processing epoch : 61 / 288 (at most)\n",
      "Processing epoch : 62 / 288 (at most)\n",
      "Processing epoch : 63 / 288 (at most)\n",
      "Processing epoch : 64 / 288 (at most)\n",
      "Processing epoch : 65 / 288 (at most)\n",
      "Processing epoch : 66 / 288 (at most)\n",
      "Processing epoch : 67 / 288 (at most)\n",
      "Processing epoch : 68 / 288 (at most)\n",
      "Processing epoch : 69 / 288 (at most)\n",
      "Processing epoch : 70 / 288 (at most)\n",
      "Processing epoch : 71 / 288 (at most)\n",
      "Processing epoch : 72 / 288 (at most)\n",
      "Processing epoch : 73 / 288 (at most)\n",
      "Processing epoch : 74 / 288 (at most)\n",
      "Processing epoch : 75 / 288 (at most)\n",
      "Processing epoch : 76 / 288 (at most)\n",
      "Processing epoch : 77 / 288 (at most)\n",
      "Processing epoch : 78 / 288 (at most)\n",
      "Processing epoch : 79 / 288 (at most)\n",
      "Processing epoch : 80 / 288 (at most)\n",
      "Processing epoch : 81 / 288 (at most)\n",
      "Processing epoch : 82 / 288 (at most)\n",
      "Processing epoch : 83 / 288 (at most)\n",
      "Processing epoch : 84 / 288 (at most)\n",
      "Processing epoch : 85 / 288 (at most)\n",
      "Processing epoch : 86 / 288 (at most)\n",
      "Processing epoch : 87 / 288 (at most)\n",
      "Processing epoch : 88 / 288 (at most)\n",
      "Processing epoch : 89 / 288 (at most)\n",
      "Processing epoch : 90 / 288 (at most)\n",
      "Processing epoch : 91 / 288 (at most)\n",
      "Processing epoch : 92 / 288 (at most)\n",
      "Processing epoch : 93 / 288 (at most)\n",
      "Processing epoch : 94 / 288 (at most)\n",
      "Processing epoch : 95 / 288 (at most)\n",
      "Processing epoch : 96 / 288 (at most)\n",
      "Processing epoch : 97 / 288 (at most)\n",
      "Processing epoch : 98 / 288 (at most)\n",
      "Processing epoch : 99 / 288 (at most)\n",
      "Processing epoch : 100 / 288 (at most)\n",
      "Processing epoch : 101 / 288 (at most)\n",
      "Processing epoch : 102 / 288 (at most)\n",
      "Processing epoch : 103 / 288 (at most)\n",
      "Processing epoch : 104 / 288 (at most)\n",
      "Processing epoch : 105 / 288 (at most)\n",
      "Processing epoch : 106 / 288 (at most)\n",
      "Processing epoch : 107 / 288 (at most)\n",
      "Processing epoch : 108 / 288 (at most)\n",
      "Processing epoch : 109 / 288 (at most)\n",
      "Processing epoch : 110 / 288 (at most)\n",
      "Processing epoch : 111 / 288 (at most)\n",
      "Processing epoch : 112 / 288 (at most)\n",
      "Processing epoch : 113 / 288 (at most)\n",
      "Processing epoch : 114 / 288 (at most)\n",
      "Processing epoch : 115 / 288 (at most)\n",
      "Processing epoch : 116 / 288 (at most)\n",
      "Processing epoch : 117 / 288 (at most)\n",
      "Processing epoch : 118 / 288 (at most)\n",
      "Processing epoch : 119 / 288 (at most)\n",
      "Processing epoch : 120 / 288 (at most)\n",
      "Processing epoch : 121 / 288 (at most)\n",
      "Processing epoch : 122 / 288 (at most)\n",
      "Processing epoch : 123 / 288 (at most)\n",
      "Processing epoch : 124 / 288 (at most)\n",
      "Processing epoch : 125 / 288 (at most)\n",
      "Processing epoch : 126 / 288 (at most)\n",
      "Processing epoch : 127 / 288 (at most)\n",
      "Processing epoch : 128 / 288 (at most)\n",
      "Processing epoch : 129 / 288 (at most)\n",
      "Processing epoch : 130 / 288 (at most)\n",
      "Processing epoch : 131 / 288 (at most)\n",
      "Processing epoch : 132 / 288 (at most)\n",
      "Processing epoch : 133 / 288 (at most)\n",
      "Processing epoch : 134 / 288 (at most)\n",
      "Processing epoch : 135 / 288 (at most)\n",
      "Processing epoch : 136 / 288 (at most)\n",
      "Processing epoch : 137 / 288 (at most)\n",
      "Processing epoch : 138 / 288 (at most)\n",
      "Processing epoch : 139 / 288 (at most)\n",
      "Processing epoch : 140 / 288 (at most)\n",
      "Processing epoch : 141 / 288 (at most)\n",
      "Processing epoch : 142 / 288 (at most)\n",
      "Processing epoch : 143 / 288 (at most)\n",
      "Processing epoch : 144 / 288 (at most)\n",
      "Processing epoch : 145 / 288 (at most)\n",
      "Processing epoch : 146 / 288 (at most)\n",
      "Processing epoch : 147 / 288 (at most)\n",
      "Processing epoch : 148 / 288 (at most)\n",
      "Processing epoch : 149 / 288 (at most)\n",
      "Processing epoch : 150 / 288 (at most)\n",
      "Processing epoch : 151 / 288 (at most)\n",
      "Processing epoch : 152 / 288 (at most)\n",
      "Processing epoch : 153 / 288 (at most)\n",
      "Processing epoch : 154 / 288 (at most)\n",
      "Processing epoch : 155 / 288 (at most)\n",
      "Processing epoch : 156 / 288 (at most)\n",
      "Processing epoch : 157 / 288 (at most)\n",
      "Processing epoch : 158 / 288 (at most)\n",
      "Processing epoch : 159 / 288 (at most)\n",
      "Processing epoch : 160 / 288 (at most)\n",
      "Processing epoch : 161 / 288 (at most)\n",
      "Processing epoch : 162 / 288 (at most)\n",
      "Processing epoch : 163 / 288 (at most)\n",
      "Processing epoch : 164 / 288 (at most)\n",
      "Processing epoch : 165 / 288 (at most)\n",
      "Processing epoch : 166 / 288 (at most)\n",
      "Processing epoch : 167 / 288 (at most)\n",
      "Processing epoch : 168 / 288 (at most)\n",
      "Processing epoch : 169 / 288 (at most)\n",
      "Processing epoch : 170 / 288 (at most)\n",
      "Processing epoch : 171 / 288 (at most)\n",
      "Processing epoch : 172 / 288 (at most)\n",
      "Processing epoch : 173 / 288 (at most)\n",
      "Processing epoch : 174 / 288 (at most)\n",
      "Processing epoch : 175 / 288 (at most)\n",
      "Processing epoch : 176 / 288 (at most)\n",
      "Processing epoch : 177 / 288 (at most)\n",
      "Processing epoch : 178 / 288 (at most)\n",
      "Processing epoch : 179 / 288 (at most)\n",
      "Processing epoch : 180 / 288 (at most)\n",
      "Processing epoch : 181 / 288 (at most)\n",
      "Processing epoch : 182 / 288 (at most)\n",
      "Processing epoch : 183 / 288 (at most)\n",
      "Processing epoch : 184 / 288 (at most)\n",
      "Processing epoch : 185 / 288 (at most)\n",
      "Processing epoch : 186 / 288 (at most)\n",
      "Processing epoch : 187 / 288 (at most)\n",
      "Processing epoch : 188 / 288 (at most)\n",
      "Processing epoch : 189 / 288 (at most)\n",
      "Processing epoch : 190 / 288 (at most)\n",
      "Processing epoch : 191 / 288 (at most)\n",
      "Processing epoch : 192 / 288 (at most)\n",
      "Processing epoch : 193 / 288 (at most)\n",
      "Processing epoch : 194 / 288 (at most)\n",
      "Processing epoch : 195 / 288 (at most)\n",
      "Processing epoch : 196 / 288 (at most)\n",
      "Processing epoch : 197 / 288 (at most)\n",
      "Processing epoch : 198 / 288 (at most)\n",
      "Processing epoch : 199 / 288 (at most)\n",
      "Processing epoch : 200 / 288 (at most)\n",
      "Processing epoch : 201 / 288 (at most)\n",
      "Processing epoch : 202 / 288 (at most)\n"
     ]
    },
    {
     "name": "stdout",
     "output_type": "stream",
     "text": [
      "Processing epoch : 203 / 288 (at most)\n",
      "Processing epoch : 204 / 288 (at most)\n",
      "Processing epoch : 205 / 288 (at most)\n",
      "Processing epoch : 206 / 288 (at most)\n",
      "Processing epoch : 207 / 288 (at most)\n",
      "Processing epoch : 208 / 288 (at most)\n",
      "Processing epoch : 209 / 288 (at most)\n",
      "Processing epoch : 210 / 288 (at most)\n",
      "Processing epoch : 211 / 288 (at most)\n",
      "Processing epoch : 212 / 288 (at most)\n",
      "Processing epoch : 213 / 288 (at most)\n",
      "Processing epoch : 214 / 288 (at most)\n",
      "Processing epoch : 215 / 288 (at most)\n",
      "Processing epoch : 216 / 288 (at most)\n",
      "Processing epoch : 217 / 288 (at most)\n",
      "Processing epoch : 218 / 288 (at most)\n",
      "Processing epoch : 219 / 288 (at most)\n",
      "Processing epoch : 220 / 288 (at most)\n",
      "Processing epoch : 221 / 288 (at most)\n",
      "Processing epoch : 222 / 288 (at most)\n",
      "Processing epoch : 223 / 288 (at most)\n",
      "Processing epoch : 224 / 288 (at most)\n",
      "Processing epoch : 225 / 288 (at most)\n",
      "Processing epoch : 226 / 288 (at most)\n",
      "Processing epoch : 227 / 288 (at most)\n",
      "Processing epoch : 228 / 288 (at most)\n",
      "Processing epoch : 229 / 288 (at most)\n",
      "Processing epoch : 230 / 288 (at most)\n",
      "Processing epoch : 231 / 288 (at most)\n",
      "Processing epoch : 232 / 288 (at most)\n",
      "Processing epoch : 233 / 288 (at most)\n",
      "Processing epoch : 234 / 288 (at most)\n",
      "Processing epoch : 235 / 288 (at most)\n",
      "Processing epoch : 236 / 288 (at most)\n",
      "Processing epoch : 237 / 288 (at most)\n",
      "Processing epoch : 238 / 288 (at most)\n",
      "Processing epoch : 239 / 288 (at most)\n",
      "Processing epoch : 240 / 288 (at most)\n",
      "Processing epoch : 241 / 288 (at most)\n",
      "Processing epoch : 242 / 288 (at most)\n",
      "Processing epoch : 243 / 288 (at most)\n",
      "Processing epoch : 244 / 288 (at most)\n",
      "Processing epoch : 245 / 288 (at most)\n",
      "Processing epoch : 246 / 288 (at most)\n",
      "Processing epoch : 247 / 288 (at most)\n",
      "Processing epoch : 248 / 288 (at most)\n",
      "Processing epoch : 249 / 288 (at most)\n",
      "Processing epoch : 250 / 288 (at most)\n",
      "Processing epoch : 251 / 288 (at most)\n",
      "Processing epoch : 252 / 288 (at most)\n",
      "Processing epoch : 253 / 288 (at most)\n",
      "Processing epoch : 254 / 288 (at most)\n",
      "Processing epoch : 255 / 288 (at most)\n",
      "Processing epoch : 256 / 288 (at most)\n",
      "Processing epoch : 257 / 288 (at most)\n",
      "Processing epoch : 258 / 288 (at most)\n",
      "Processing epoch : 259 / 288 (at most)\n",
      "Processing epoch : 260 / 288 (at most)\n",
      "Processing epoch : 261 / 288 (at most)\n",
      "Processing epoch : 262 / 288 (at most)\n",
      "Processing epoch : 263 / 288 (at most)\n",
      "Processing epoch : 264 / 288 (at most)\n",
      "Processing epoch : 265 / 288 (at most)\n",
      "Processing epoch : 266 / 288 (at most)\n",
      "Processing epoch : 267 / 288 (at most)\n",
      "Processing epoch : 268 / 288 (at most)\n",
      "Processing epoch : 269 / 288 (at most)\n",
      "Processing epoch : 270 / 288 (at most)\n",
      "Processing epoch : 271 / 288 (at most)\n",
      "Processing epoch : 272 / 288 (at most)\n",
      "Processing epoch : 273 / 288 (at most)\n",
      "Processing epoch : 274 / 288 (at most)\n",
      "Processing epoch : 275 / 288 (at most)\n",
      "Processing epoch : 276 / 288 (at most)\n",
      "Processing epoch : 277 / 288 (at most)\n",
      "Processing epoch : 278 / 288 (at most)\n",
      "Processing epoch : 279 / 288 (at most)\n",
      "Processing epoch : 280 / 288 (at most)\n",
      "Processing epoch : 281 / 288 (at most)\n",
      "Processing epoch : 282 / 288 (at most)\n",
      "Processing epoch : 283 / 288 (at most)\n",
      "Processing epoch : 284 / 288 (at most)\n",
      "Processing epoch : 285 / 288 (at most)\n",
      "Processing epoch : 286 / 288 (at most)\n",
      "Processing epoch : 287 / 288 (at most)\n",
      "Processing epoch : 288 / 288 (at most)\n",
      "[done]\n"
     ]
    }
   ],
   "source": [
    "epochs_stc = mne.minimum_norm.apply_inverse_epochs(epochs, inv, lambda2=0.1111)"
   ]
  },
  {
   "cell_type": "code",
   "execution_count": 6,
   "metadata": {},
   "outputs": [],
   "source": [
    "import rsa\n",
    "import numpy as np"
   ]
  },
  {
   "cell_type": "code",
   "execution_count": 16,
   "metadata": {},
   "outputs": [
    {
     "name": "stderr",
     "output_type": "stream",
     "text": [
      "100%|████████████████████████████████████████████| 577346/577346 [11:14:55<00:00, 14.26it/s]\n"
     ]
    },
    {
     "ename": "ValueError",
     "evalue": "cannot reshape array of size 577346 into shape (7498,106,1)",
     "output_type": "error",
     "traceback": [
      "\u001b[1;31m---------------------------------------------------------------------------\u001b[0m",
      "\u001b[1;31mValueError\u001b[0m                                Traceback (most recent call last)",
      "\u001b[1;32m<ipython-input-16-5e3b4b2428c1>\u001b[0m in \u001b[0;36m<module>\u001b[1;34m\u001b[0m\n\u001b[0;32m      5\u001b[0m     \u001b[1;33m[\u001b[0m\u001b[1;36m1\u001b[0m\u001b[1;33m,\u001b[0m \u001b[1;36m1\u001b[0m\u001b[1;33m,\u001b[0m \u001b[1;36m0.5\u001b[0m\u001b[1;33m,\u001b[0m \u001b[1;36m0\u001b[0m\u001b[1;33m]\u001b[0m\u001b[1;33m,\u001b[0m\u001b[1;33m\u001b[0m\u001b[1;33m\u001b[0m\u001b[0m\n\u001b[0;32m      6\u001b[0m ])\n\u001b[1;32m----> 7\u001b[1;33m \u001b[0mrsa_vals\u001b[0m \u001b[1;33m=\u001b[0m \u001b[0mrsa\u001b[0m\u001b[1;33m.\u001b[0m\u001b[0mrsa_source_level\u001b[0m\u001b[1;33m(\u001b[0m\u001b[0mepochs_stc\u001b[0m\u001b[1;33m,\u001b[0m \u001b[0mmodel_dsm\u001b[0m\u001b[1;33m,\u001b[0m \u001b[0minv\u001b[0m\u001b[1;33m[\u001b[0m\u001b[1;34m'src'\u001b[0m\u001b[1;33m]\u001b[0m\u001b[1;33m,\u001b[0m \u001b[0my\u001b[0m\u001b[1;33m=\u001b[0m\u001b[0mepochs\u001b[0m\u001b[1;33m.\u001b[0m\u001b[0mevents\u001b[0m\u001b[1;33m[\u001b[0m\u001b[1;33m:\u001b[0m\u001b[1;33m,\u001b[0m \u001b[1;36m2\u001b[0m\u001b[1;33m]\u001b[0m\u001b[1;33m,\u001b[0m \u001b[0mn_folds\u001b[0m\u001b[1;33m=\u001b[0m\u001b[1;36m5\u001b[0m\u001b[1;33m,\u001b[0m \u001b[0mverbose\u001b[0m\u001b[1;33m=\u001b[0m\u001b[1;32mTrue\u001b[0m\u001b[1;33m)\u001b[0m\u001b[1;33m\u001b[0m\u001b[1;33m\u001b[0m\u001b[0m\n\u001b[0m",
      "\u001b[1;32mc:\\users\\wmvan\\projects\\rsa\\rsa\\source_level.py\u001b[0m in \u001b[0;36mrsa_source_level\u001b[1;34m(stcs, dsm_model, src, spatial_radius, temporal_radius, stc_dsm_metric, stc_dsm_params, rsa_metric, y, n_folds, n_jobs, verbose)\u001b[0m\n\u001b[0;32m    163\u001b[0m                      \u001b[0mdata_dsm_metric\u001b[0m\u001b[1;33m=\u001b[0m\u001b[0mstc_dsm_metric\u001b[0m\u001b[1;33m,\u001b[0m\u001b[1;33m\u001b[0m\u001b[1;33m\u001b[0m\u001b[0m\n\u001b[0;32m    164\u001b[0m                      \u001b[0mdata_dsm_params\u001b[0m\u001b[1;33m=\u001b[0m\u001b[0mstc_dsm_params\u001b[0m\u001b[1;33m,\u001b[0m \u001b[0mrsa_metric\u001b[0m\u001b[1;33m=\u001b[0m\u001b[0mrsa_metric\u001b[0m\u001b[1;33m,\u001b[0m\u001b[1;33m\u001b[0m\u001b[1;33m\u001b[0m\u001b[0m\n\u001b[1;32m--> 165\u001b[1;33m                      y=y, n_folds=n_folds, n_jobs=n_jobs, verbose=verbose)\n\u001b[0m\u001b[0;32m    166\u001b[0m \u001b[1;33m\u001b[0m\u001b[0m\n\u001b[0;32m    167\u001b[0m     \u001b[1;31m# Pack the result in a SourceEstimate object\u001b[0m\u001b[1;33m\u001b[0m\u001b[1;33m\u001b[0m\u001b[1;33m\u001b[0m\u001b[0m\n",
      "\u001b[1;32mc:\\users\\wmvan\\projects\\rsa\\rsa\\rsa.py\u001b[0m in \u001b[0;36mrsa_array\u001b[1;34m(X, dsm_model, dist, spatial_radius, temporal_radius, data_dsm_metric, data_dsm_params, rsa_metric, y, n_folds, n_jobs, verbose)\u001b[0m\n\u001b[0;32m    224\u001b[0m             \u001b[0mmetric\u001b[0m\u001b[1;33m=\u001b[0m\u001b[0mrsa_metric\u001b[0m\u001b[1;33m,\u001b[0m\u001b[1;33m\u001b[0m\u001b[1;33m\u001b[0m\u001b[0m\n\u001b[0;32m    225\u001b[0m             n_jobs=n_jobs)\n\u001b[1;32m--> 226\u001b[1;33m         \u001b[0mdata\u001b[0m \u001b[1;33m=\u001b[0m \u001b[0mdata\u001b[0m\u001b[1;33m.\u001b[0m\u001b[0mreshape\u001b[0m\u001b[1;33m(\u001b[0m\u001b[1;33m(\u001b[0m\u001b[1;33m-\u001b[0m\u001b[1;36m1\u001b[0m\u001b[1;33m,\u001b[0m \u001b[0mX\u001b[0m\u001b[1;33m.\u001b[0m\u001b[0mshape\u001b[0m\u001b[1;33m[\u001b[0m\u001b[1;36m1\u001b[0m\u001b[1;33m]\u001b[0m\u001b[1;33m,\u001b[0m \u001b[0mX\u001b[0m\u001b[1;33m.\u001b[0m\u001b[0mshape\u001b[0m\u001b[1;33m[\u001b[0m\u001b[1;36m2\u001b[0m\u001b[1;33m]\u001b[0m\u001b[1;33m)\u001b[0m \u001b[1;33m+\u001b[0m \u001b[0mdata\u001b[0m\u001b[1;33m.\u001b[0m\u001b[0mshape\u001b[0m\u001b[1;33m[\u001b[0m\u001b[1;36m1\u001b[0m\u001b[1;33m:\u001b[0m\u001b[1;33m]\u001b[0m\u001b[1;33m)\u001b[0m\u001b[1;33m\u001b[0m\u001b[1;33m\u001b[0m\u001b[0m\n\u001b[0m\u001b[0;32m    227\u001b[0m \u001b[1;33m\u001b[0m\u001b[0m\n\u001b[0;32m    228\u001b[0m     \u001b[1;32melif\u001b[0m \u001b[0mspatial_radius\u001b[0m \u001b[1;32mis\u001b[0m \u001b[1;32mnot\u001b[0m \u001b[1;32mNone\u001b[0m\u001b[1;33m:\u001b[0m\u001b[1;33m\u001b[0m\u001b[1;33m\u001b[0m\u001b[0m\n",
      "\u001b[1;31mValueError\u001b[0m: cannot reshape array of size 577346 into shape (7498,106,1)"
     ]
    }
   ],
   "source": [
    "model_dsm = np.array([\n",
    "    [0, 0.5, 1, 1],\n",
    "    [0.5, 0, 1, 1],\n",
    "    [1, 1, 0, 0.5],\n",
    "    [1, 1, 0.5, 0],\n",
    "])\n",
    "rsa_vals = rsa.rsa_source_level(epochs_stc, model_dsm, inv['src'], y=epochs.events[:, 2], n_folds=5, verbose=True)"
   ]
  },
  {
   "cell_type": "code",
   "execution_count": 14,
   "metadata": {},
   "outputs": [
    {
     "name": "stdout",
     "output_type": "stream",
     "text": [
      "Using control points [0.82807867 0.82807867 0.82807867]\n",
      "<Brain subject_id=\"sample\", hemi=\"both\", surf=\"inflated\">\n"
     ]
    }
   ],
   "source": [
    "rsa_vals.plot('sample', hemi='both', subjects_dir=subjects_dir)"
   ]
  },
  {
   "cell_type": "code",
   "execution_count": 9,
   "metadata": {},
   "outputs": [
    {
     "data": {
      "text/plain": [
       "dict_keys(['methods', 'source_ori', 'nsource', 'nchan', 'coord_frame', 'units', 'source_nn', 'sing', 'eigen_leads_weighted', 'eigen_leads', 'eigen_fields', 'noise_cov', 'source_cov', 'orient_prior', 'depth_prior', 'fmri_prior', 'src', 'mri_head_t', 'info', 'nave', 'projs', 'proj', 'whitener', 'reginv', 'noisenorm'])"
      ]
     },
     "execution_count": 9,
     "metadata": {},
     "output_type": "execute_result"
    }
   ],
   "source": [
    "inv.keys()"
   ]
  },
  {
   "cell_type": "code",
   "execution_count": 10,
   "metadata": {},
   "outputs": [
    {
     "data": {
      "text/plain": [
       "<SourceSpaces: [<surface (lh), n_vertices=155407, n_used=3732>, <surface (rh), n_vertices=156866, n_used=3766>] head coords, subject 'sample'>"
      ]
     },
     "execution_count": 10,
     "metadata": {},
     "output_type": "execute_result"
    }
   ],
   "source": [
    "inv['src']"
   ]
  },
  {
   "cell_type": "code",
   "execution_count": 11,
   "metadata": {},
   "outputs": [
    {
     "data": {
      "text/plain": [
       "<SourceEstimate  |  7498 vertices, subject : sample, tmin : -199.79521315838787 (ms), tmax : 499.48803289596964 (ms), tstep : 6.659840438612929 (ms), data shape : (7498, 106)>"
      ]
     },
     "execution_count": 11,
     "metadata": {},
     "output_type": "execute_result"
    }
   ],
   "source": [
    "epochs_stc[0]"
   ]
  },
  {
   "cell_type": "code",
   "execution_count": 12,
   "metadata": {},
   "outputs": [
    {
     "data": {
      "text/plain": [
       "7498"
      ]
     },
     "execution_count": 12,
     "metadata": {},
     "output_type": "execute_result"
    }
   ],
   "source": [
    "len(inv['src'][0]['vertno']) + len(inv['src'][1]['vertno'])"
   ]
  },
  {
   "cell_type": "code",
   "execution_count": 13,
   "metadata": {},
   "outputs": [
    {
     "data": {
      "text/plain": [
       "7498"
      ]
     },
     "execution_count": 13,
     "metadata": {},
     "output_type": "execute_result"
    }
   ],
   "source": [
    "np.sum(inv['src'][0]['inuse']) + np.sum(inv['src'][1]['inuse'])"
   ]
  },
  {
   "cell_type": "code",
   "execution_count": null,
   "metadata": {},
   "outputs": [
    {
     "name": "stdout",
     "output_type": "stream",
     "text": [
      "> c:\\users\\wmvan\\projects\\rsa\\rsa\\rsa.py(226)rsa_array()\n",
      "    224             metric=rsa_metric,\n",
      "    225             n_jobs=n_jobs)\n",
      "--> 226         data = data.reshape((-1, X.shape[1], X.shape[2]) + data.shape[1:])\n",
      "    227 \n",
      "    228     elif spatial_radius is not None:\n",
      "\n",
      "ipdb> data.shape\n",
      "(577346, 1)\n",
      "ipdb> X.shape\n",
      "(288, 7498, 106)\n",
      "ipdb> data.reshape(X.shape[1], X.shape[2], -1)\n",
      "*** ValueError: cannot reshape array of size 577346 into shape (7498,106,newaxis)\n",
      "ipdb> 7498 * 106\n",
      "794788\n",
      "ipdb> data.reshape(X.shape[1], -1, data.shape[1])\n",
      "array([[[ 0.        ],\n",
      "        [ 0.        ],\n",
      "        [ 0.        ],\n",
      "        ...,\n",
      "        [ 0.        ],\n",
      "        [ 0.        ],\n",
      "        [ 0.        ]],\n",
      "\n",
      "       [[-0.20701967],\n",
      "        [-0.41403934],\n",
      "        [-0.41403934],\n",
      "        ...,\n",
      "        [ 0.        ],\n",
      "        [ 0.        ],\n",
      "        [ 0.        ]],\n",
      "\n",
      "       [[ 0.        ],\n",
      "        [ 0.        ],\n",
      "        [ 0.        ],\n",
      "        ...,\n",
      "        [-0.621059  ],\n",
      "        [-0.621059  ],\n",
      "        [-0.621059  ]],\n",
      "\n",
      "       ...,\n",
      "\n",
      "       [[ 0.621059  ],\n",
      "        [ 0.621059  ],\n",
      "        [ 0.621059  ],\n",
      "        ...,\n",
      "        [ 0.        ],\n",
      "        [ 0.        ],\n",
      "        [ 0.        ]],\n",
      "\n",
      "       [[ 0.        ],\n",
      "        [ 0.        ],\n",
      "        [ 0.        ],\n",
      "        ...,\n",
      "        [-0.41403934],\n",
      "        [-0.41403934],\n",
      "        [-0.41403934]],\n",
      "\n",
      "       [[ 0.20701967],\n",
      "        [ 0.        ],\n",
      "        [ 0.        ],\n",
      "        ...,\n",
      "        [-0.20701967],\n",
      "        [-0.20701967],\n",
      "        [-0.20701967]]])\n"
     ]
    }
   ],
   "source": [
    "%debug"
   ]
  },
  {
   "cell_type": "code",
   "execution_count": null,
   "metadata": {},
   "outputs": [],
   "source": []
  }
 ],
 "metadata": {
  "kernelspec": {
   "display_name": "Python 3",
   "language": "python",
   "name": "python3"
  },
  "language_info": {
   "codemirror_mode": {
    "name": "ipython",
    "version": 3
   },
   "file_extension": ".py",
   "mimetype": "text/x-python",
   "name": "python",
   "nbconvert_exporter": "python",
   "pygments_lexer": "ipython3",
   "version": "3.6.8"
  }
 },
 "nbformat": 4,
 "nbformat_minor": 2
}
