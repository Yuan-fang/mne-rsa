{
 "cells": [
  {
   "cell_type": "markdown",
   "metadata": {},
   "source": [
    "# Sensor-level RSA example on the kiloword EEG dataset\n",
    "\n",
    "This example demonstrates how to perform representational similarity analysis (RSA) on EEG data, using a searchlight approach.\n",
    "\n",
    "In the searchlight approach, representational similarity is computed between the model and searchlight \"patches\". A patch is defined by a seed point (e.g. sensor Pz) and everything within the given radius (e.g. all sensors within 4 cm. of Pz). Patches are created for all possible seed points (e.g. all sensors), so you can think of it as a \"searchlight\" that moves from seed point to seed point and everything that is in the spotlight is used in the computation.\n",
    "\n",
    "The radius of a searchlight can be defined in space, in time, or both. In this example, our searchlight will have a spatial radius of 4 cm. and a temporal radius of 0.1 cm.\n",
    "\n",
    "The dataset will be the kiloword dataset [1]: approximately 1,000 words were presented to 75 participants in a go/no-go lexical decision task while event-related potentials (ERPs) were recorded.\n",
    "\n",
    "[1] Dufau, S., Grainger, J., Midgley, KJ., Holcomb, PJ. A thousand words are worth a picture: Snapshots of printed-word processing in an event-related potential megastudy. Psychological science, 2015"
   ]
  },
  {
   "cell_type": "code",
   "execution_count": 1,
   "metadata": {},
   "outputs": [],
   "source": [
    "%load_ext autoreload\n",
    "%autoreload"
   ]
  },
  {
   "cell_type": "code",
   "execution_count": 2,
   "metadata": {},
   "outputs": [],
   "source": [
    "import mne\n",
    "import rsa\n",
    "import numpy as np\n",
    "%matplotlib inline"
   ]
  },
  {
   "cell_type": "code",
   "execution_count": 3,
   "metadata": {},
   "outputs": [],
   "source": [
    "data_path = mne.datasets.kiloword.data_path(verbose=True)\n",
    "epochs = mne.read_epochs(data_path + '/kword_metadata-epo.fif')\n",
    "evokeds = [epochs[w].average() for w in epochs.metadata['WORD']]"
   ]
  },
  {
   "cell_type": "code",
   "execution_count": 4,
   "metadata": {},
   "outputs": [],
   "source": [
    "model = epochs.metadata.iloc[:, 1:].values  # All word properties"
   ]
  },
  {
   "cell_type": "code",
   "execution_count": null,
   "metadata": {},
   "outputs": [],
   "source": [
    "evoked_rsa = rsa.rsa_evokeds(evokeds, model, spatial_radius=0.04, temporal_radius=0.01, verbose=True)"
   ]
  },
  {
   "cell_type": "code",
   "execution_count": 6,
   "metadata": {},
   "outputs": [
    {
     "data": {
      "text/plain": [
       "<Evoked  |  'RSA' (average, N=960), [-0.092, 0.916] sec, 1 ch, ~9 kB>"
      ]
     },
     "execution_count": 6,
     "metadata": {},
     "output_type": "execute_result"
    }
   ],
   "source": [
    "evoked_rsa"
   ]
  },
  {
   "cell_type": "code",
   "execution_count": 10,
   "metadata": {},
   "outputs": [
    {
     "data": {
      "image/png": "[encoded data removed]",
      "text/plain": [
       "<Figure size 460.8x216 with 1 Axes>"
      ]
     },
     "metadata": {
      "needs_background": "light"
     },
     "output_type": "display_data"
    }
   ],
   "source": [
    "evoked_rsa.plot();"
   ]
  },
  {
   "cell_type": "code",
   "execution_count": 8,
   "metadata": {},
   "outputs": [
    {
     "name": "stderr",
     "output_type": "stream",
     "text": [
      "WARNING:root:Did not find any electrode locations (in the info object), will attempt to use digitization points instead. However, if digitization points do not correspond to the EEG electrodes, this will lead to bad results. Please verify that the sensor locations in the plot are accurate.\n"
     ]
    },
    {
     "ename": "ValueError",
     "evalue": "Cannot determine location of MEG/EOG/ECG channels using digitization points.",
     "output_type": "error",
     "traceback": [
      "\u001b[1;31m---------------------------------------------------------------------------\u001b[0m",
      "\u001b[1;31mValueError\u001b[0m                                Traceback (most recent call last)",
      "\u001b[1;32m<ipython-input-8-cf0c185eec68>\u001b[0m in \u001b[0;36m<module>\u001b[1;34m\u001b[0m\n\u001b[1;32m----> 1\u001b[1;33m \u001b[0mevoked_rsa\u001b[0m\u001b[1;33m.\u001b[0m\u001b[0mplot_topo\u001b[0m\u001b[1;33m(\u001b[0m\u001b[1;33m)\u001b[0m\u001b[1;33m;\u001b[0m\u001b[1;33m\u001b[0m\u001b[1;33m\u001b[0m\u001b[0m\n\u001b[0m",
      "\u001b[1;32m/m/home/home4/45/vanvlm1/data/projects/mne-python/mne/evoked.py\u001b[0m in \u001b[0;36mplot_topo\u001b[1;34m(self, layout, layout_scale, color, border, ylim, scalings, title, proj, vline, fig_background, merge_grads, legend, axes, background_color, noise_cov, show)\u001b[0m\n\u001b[0;32m    352\u001b[0m             \u001b[0mproj\u001b[0m\u001b[1;33m=\u001b[0m\u001b[0mproj\u001b[0m\u001b[1;33m,\u001b[0m \u001b[0mvline\u001b[0m\u001b[1;33m=\u001b[0m\u001b[0mvline\u001b[0m\u001b[1;33m,\u001b[0m \u001b[0mfig_background\u001b[0m\u001b[1;33m=\u001b[0m\u001b[0mfig_background\u001b[0m\u001b[1;33m,\u001b[0m\u001b[1;33m\u001b[0m\u001b[1;33m\u001b[0m\u001b[0m\n\u001b[0;32m    353\u001b[0m             \u001b[0mmerge_grads\u001b[0m\u001b[1;33m=\u001b[0m\u001b[0mmerge_grads\u001b[0m\u001b[1;33m,\u001b[0m \u001b[0mlegend\u001b[0m\u001b[1;33m=\u001b[0m\u001b[0mlegend\u001b[0m\u001b[1;33m,\u001b[0m \u001b[0maxes\u001b[0m\u001b[1;33m=\u001b[0m\u001b[0maxes\u001b[0m\u001b[1;33m,\u001b[0m\u001b[1;33m\u001b[0m\u001b[1;33m\u001b[0m\u001b[0m\n\u001b[1;32m--> 354\u001b[1;33m             background_color=background_color, noise_cov=noise_cov, show=show)\n\u001b[0m\u001b[0;32m    355\u001b[0m \u001b[1;33m\u001b[0m\u001b[0m\n\u001b[0;32m    356\u001b[0m     \u001b[1;33m@\u001b[0m\u001b[0mcopy_function_doc_to_method_doc\u001b[0m\u001b[1;33m(\u001b[0m\u001b[0mplot_evoked_topomap\u001b[0m\u001b[1;33m)\u001b[0m\u001b[1;33m\u001b[0m\u001b[1;33m\u001b[0m\u001b[0m\n",
      "\u001b[1;32m/m/home/home4/45/vanvlm1/data/projects/mne-python/mne/viz/evoked.py\u001b[0m in \u001b[0;36mplot_evoked_topo\u001b[1;34m(evoked, layout, layout_scale, color, border, ylim, scalings, title, proj, vline, fig_background, merge_grads, legend, axes, background_color, noise_cov, show)\u001b[0m\n\u001b[0;32m    842\u001b[0m                              \u001b[0mfont_color\u001b[0m\u001b[1;33m=\u001b[0m\u001b[0mfont_color\u001b[0m\u001b[1;33m,\u001b[0m \u001b[0mmerge_grads\u001b[0m\u001b[1;33m=\u001b[0m\u001b[0mmerge_grads\u001b[0m\u001b[1;33m,\u001b[0m\u001b[1;33m\u001b[0m\u001b[1;33m\u001b[0m\u001b[0m\n\u001b[0;32m    843\u001b[0m                              \u001b[0mlegend\u001b[0m\u001b[1;33m=\u001b[0m\u001b[0mlegend\u001b[0m\u001b[1;33m,\u001b[0m \u001b[0maxes\u001b[0m\u001b[1;33m=\u001b[0m\u001b[0maxes\u001b[0m\u001b[1;33m,\u001b[0m \u001b[0mshow\u001b[0m\u001b[1;33m=\u001b[0m\u001b[0mshow\u001b[0m\u001b[1;33m,\u001b[0m\u001b[1;33m\u001b[0m\u001b[1;33m\u001b[0m\u001b[0m\n\u001b[1;32m--> 844\u001b[1;33m                              noise_cov=noise_cov)\n\u001b[0m\u001b[0;32m    845\u001b[0m \u001b[1;33m\u001b[0m\u001b[0m\n\u001b[0;32m    846\u001b[0m \u001b[1;33m\u001b[0m\u001b[0m\n",
      "\u001b[1;32m/m/home/home4/45/vanvlm1/data/projects/mne-python/mne/viz/topo.py\u001b[0m in \u001b[0;36m_plot_evoked_topo\u001b[1;34m(evoked, layout, layout_scale, color, border, ylim, scalings, title, proj, vline, hline, fig_facecolor, fig_background, axis_facecolor, font_color, merge_grads, legend, axes, show, noise_cov)\u001b[0m\n\u001b[0;32m    703\u001b[0m \u001b[1;33m\u001b[0m\u001b[0m\n\u001b[0;32m    704\u001b[0m     \u001b[1;32mif\u001b[0m \u001b[0mlayout\u001b[0m \u001b[1;32mis\u001b[0m \u001b[1;32mNone\u001b[0m\u001b[1;33m:\u001b[0m\u001b[1;33m\u001b[0m\u001b[1;33m\u001b[0m\u001b[0m\n\u001b[1;32m--> 705\u001b[1;33m         \u001b[0mlayout\u001b[0m \u001b[1;33m=\u001b[0m \u001b[0mfind_layout\u001b[0m\u001b[1;33m(\u001b[0m\u001b[0minfo\u001b[0m\u001b[1;33m)\u001b[0m\u001b[1;33m\u001b[0m\u001b[1;33m\u001b[0m\u001b[0m\n\u001b[0m\u001b[0;32m    706\u001b[0m \u001b[1;33m\u001b[0m\u001b[0m\n\u001b[0;32m    707\u001b[0m     \u001b[1;32mif\u001b[0m \u001b[1;32mnot\u001b[0m \u001b[0mmerge_grads\u001b[0m\u001b[1;33m:\u001b[0m\u001b[1;33m\u001b[0m\u001b[1;33m\u001b[0m\u001b[0m\n",
      "\u001b[1;32m/m/home/home4/45/vanvlm1/data/projects/mne-python/mne/channels/layout.py\u001b[0m in \u001b[0;36mfind_layout\u001b[1;34m(info, ch_type, exclude)\u001b[0m\n\u001b[0;32m    424\u001b[0m     \u001b[1;32melse\u001b[0m\u001b[1;33m:\u001b[0m\u001b[1;33m\u001b[0m\u001b[1;33m\u001b[0m\u001b[0m\n\u001b[0;32m    425\u001b[0m         xy = _auto_topomap_coords(info, picks=range(info['nchan']),\n\u001b[1;32m--> 426\u001b[1;33m                                   ignore_overlap=True, to_sphere=False)\n\u001b[0m\u001b[0;32m    427\u001b[0m         return generate_2d_layout(xy, ch_names=info['ch_names'], name='custom',\n\u001b[0;32m    428\u001b[0m                                   normalize=False)\n",
      "\u001b[1;32m/m/home/home4/45/vanvlm1/data/projects/mne-python/mne/channels/layout.py\u001b[0m in \u001b[0;36m_auto_topomap_coords\u001b[1;34m(info, picks, ignore_overlap, to_sphere)\u001b[0m\n\u001b[0;32m    666\u001b[0m         \u001b[1;32mfor\u001b[0m \u001b[0mch\u001b[0m \u001b[1;32min\u001b[0m \u001b[0mchs\u001b[0m\u001b[1;33m:\u001b[0m\u001b[1;33m\u001b[0m\u001b[1;33m\u001b[0m\u001b[0m\n\u001b[0;32m    667\u001b[0m             \u001b[1;32mif\u001b[0m \u001b[0mch\u001b[0m\u001b[1;33m[\u001b[0m\u001b[1;34m'kind'\u001b[0m\u001b[1;33m]\u001b[0m \u001b[1;33m!=\u001b[0m \u001b[0mFIFF\u001b[0m\u001b[1;33m.\u001b[0m\u001b[0mFIFFV_EEG_CH\u001b[0m\u001b[1;33m:\u001b[0m\u001b[1;33m\u001b[0m\u001b[1;33m\u001b[0m\u001b[0m\n\u001b[1;32m--> 668\u001b[1;33m                 raise ValueError(\"Cannot determine location of MEG/EOG/ECG \"\n\u001b[0m\u001b[0;32m    669\u001b[0m                                  \"channels using digitization points.\")\n\u001b[0;32m    670\u001b[0m \u001b[1;33m\u001b[0m\u001b[0m\n",
      "\u001b[1;31mValueError\u001b[0m: Cannot determine location of MEG/EOG/ECG channels using digitization points."
     ]
    }
   ],
   "source": [
    "evoked_rsa.plot_topo();"
   ]
  },
  {
   "cell_type": "code",
   "execution_count": null,
   "metadata": {},
   "outputs": [],
   "source": [
    "import gensim"
   ]
  },
  {
   "cell_type": "code",
   "execution_count": null,
   "metadata": {},
   "outputs": [],
   "source": [
    "vecs = gensim.models.KeyedVectors.load_word2vec_format('/m/nbe/project/corpora/englishmodels/GoogleNews-vectors-negative300.bin.gz', binary=True)"
   ]
  },
  {
   "cell_type": "code",
   "execution_count": null,
   "metadata": {},
   "outputs": [],
   "source": [
    "epochs.metadata.loc[840, 'WORD'] = 'whiskey'  # Alternate spelling\n",
    "model = vecs[epochs.metadata.WORD]"
   ]
  },
  {
   "cell_type": "code",
   "execution_count": null,
   "metadata": {},
   "outputs": [],
   "source": []
  },
  {
   "cell_type": "code",
   "execution_count": null,
   "metadata": {},
   "outputs": [],
   "source": [
    "import numpy as np\n",
    "np.save('w2v.npy', model)"
   ]
  },
  {
   "cell_type": "code",
   "execution_count": null,
   "metadata": {},
   "outputs": [],
   "source": [
    "epochs.metadata.query('WORD == \"whisky\"')"
   ]
  },
  {
   "cell_type": "code",
   "execution_count": null,
   "metadata": {},
   "outputs": [],
   "source": []
  }
 ],
 "metadata": {
  "kernelspec": {
   "display_name": "Python 3",
   "language": "python",
   "name": "python3"
  },
  "language_info": {
   "codemirror_mode": {
    "name": "ipython",
    "version": 3
   },
   "file_extension": ".py",
   "mimetype": "text/x-python",
   "name": "python",
   "nbconvert_exporter": "python",
   "pygments_lexer": "ipython3",
   "version": "3.6.8"
  }
 },
 "nbformat": 4,
 "nbformat_minor": 2
}
