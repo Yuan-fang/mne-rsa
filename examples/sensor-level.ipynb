{
 "cells": [
  {
   "cell_type": "markdown",
   "metadata": {},
   "source": [
    "# Sensor-level RSA example on the kiloword EEG dataset\n",
    "\n",
    "This example demonstrates how to perform representational similarity analysis (RSA) on EEG data, using a searchlight approach.\n",
    "\n",
    "In the searchlight approach, representational similarity is computed between the model and searchlight \"patches\". A patch is defined by a seed point (e.g. sensor Pz) and everything within the given radius (e.g. all sensors within 4 cm. of Pz). Patches are created for all possible seed points (e.g. all sensors), so you can think of it as a \"searchlight\" that moves from seed point to seed point and everything that is in the spotlight is used in the computation.\n",
    "\n",
    "The radius of a searchlight can be defined in space, in time, or both. In this example, our searchlight will have a spatial radius of 4.5 cm. and a temporal radius of 50 ms.\n",
    "\n",
    "The dataset will be the kiloword dataset [1]: approximately 1,000 words were presented to 75 participants in a go/no-go lexical decision task while event-related potentials (ERPs) were recorded.\n",
    "\n",
    "[1] Dufau, S., Grainger, J., Midgley, KJ., Holcomb, PJ. A thousand words are worth a picture: Snapshots of printed-word processing in an event-related potential megastudy. Psychological science, 2015"
   ]
  },
  {
   "cell_type": "code",
   "execution_count": 5,
   "metadata": {},
   "outputs": [],
   "source": [
    "# Import required packages\n",
    "import mne\n",
    "import mne_rsa\n",
    "\n",
    "# Configure the graphics engine: figures should be embedded in this notebook\n",
    "%matplotlib inline"
   ]
  },
  {
   "cell_type": "markdown",
   "metadata": {},
   "source": [
    "MNE-Python contains a build-in data loader for the kiloword dataset. We use it here to read it as 960 epochs. Each epoch represents the brain response to a single word, averaged across all the participants. For this example, we speed up the computation, at a cost of temporal precision, by downsampling the data from the original 250 Hz. to 100 Hz. "
   ]
  },
  {
   "cell_type": "code",
   "execution_count": 6,
   "metadata": {},
   "outputs": [
    {
     "name": "stdout",
     "output_type": "stream",
     "text": [
      "Reading C:\\Users\\wmvan\\mne_data\\MNE-kiloword-data/kword_metadata-epo.fif ...\n",
      "Isotrak not found\n",
      "    Found the data of interest:\n",
      "        t =    -100.00 ...     920.00 ms\n",
      "        0 CTF compensation matrices available\n",
      "960 matching events found\n",
      "No baseline correction applied\n",
      "Adding metadata with 8 columns\n",
      "0 projection items activated\n"
     ]
    }
   ],
   "source": [
    "data_path = mne.datasets.kiloword.data_path(verbose=True)\n",
    "epochs = mne.read_epochs(data_path + '/kword_metadata-epo.fif')\n",
    "epochs = epochs.resample(100)"
   ]
  },
  {
   "cell_type": "markdown",
   "metadata": {},
   "source": [
    "The `epochs` object contains a `.metadata` field that contains information about the 960 words that were used in the experiment. Let's have a look at the metadata for the 10 random words:"
   ]
  },
  {
   "cell_type": "code",
   "execution_count": 7,
   "metadata": {},
   "outputs": [
    {
     "data": {
      "text/html": [
       "<div>\n",
       "<style scoped>\n",
       "    .dataframe tbody tr th:only-of-type {\n",
       "        vertical-align: middle;\n",
       "    }\n",
       "\n",
       "    .dataframe tbody tr th {\n",
       "        vertical-align: top;\n",
       "    }\n",
       "\n",
       "    .dataframe thead th {\n",
       "        text-align: right;\n",
       "    }\n",
       "</style>\n",
       "<table border=\"1\" class=\"dataframe\">\n",
       "  <thead>\n",
       "    <tr style=\"text-align: right;\">\n",
       "      <th></th>\n",
       "      <th>WORD</th>\n",
       "      <th>Concreteness</th>\n",
       "      <th>WordFrequency</th>\n",
       "      <th>OrthographicDistance</th>\n",
       "      <th>NumberOfLetters</th>\n",
       "      <th>BigramFrequency</th>\n",
       "      <th>ConsonantVowelProportion</th>\n",
       "      <th>VisualComplexity</th>\n",
       "    </tr>\n",
       "  </thead>\n",
       "  <tbody>\n",
       "    <tr>\n",
       "      <th>798</th>\n",
       "      <td>squad</td>\n",
       "      <td>4.550000</td>\n",
       "      <td>2.225309</td>\n",
       "      <td>1.70</td>\n",
       "      <td>5.0</td>\n",
       "      <td>156.200000</td>\n",
       "      <td>0.600000</td>\n",
       "      <td>75.786439</td>\n",
       "    </tr>\n",
       "    <tr>\n",
       "      <th>956</th>\n",
       "      <td>reversal</td>\n",
       "      <td>3.700000</td>\n",
       "      <td>1.991226</td>\n",
       "      <td>2.65</td>\n",
       "      <td>8.0</td>\n",
       "      <td>859.000000</td>\n",
       "      <td>0.625000</td>\n",
       "      <td>60.545879</td>\n",
       "    </tr>\n",
       "    <tr>\n",
       "      <th>262</th>\n",
       "      <td>poem</td>\n",
       "      <td>4.450000</td>\n",
       "      <td>2.414973</td>\n",
       "      <td>1.85</td>\n",
       "      <td>4.0</td>\n",
       "      <td>298.000000</td>\n",
       "      <td>0.500000</td>\n",
       "      <td>82.239855</td>\n",
       "    </tr>\n",
       "    <tr>\n",
       "      <th>648</th>\n",
       "      <td>horizon</td>\n",
       "      <td>4.950000</td>\n",
       "      <td>2.515874</td>\n",
       "      <td>2.90</td>\n",
       "      <td>7.0</td>\n",
       "      <td>521.428571</td>\n",
       "      <td>0.571429</td>\n",
       "      <td>60.077749</td>\n",
       "    </tr>\n",
       "    <tr>\n",
       "      <th>885</th>\n",
       "      <td>concept</td>\n",
       "      <td>2.150000</td>\n",
       "      <td>2.930440</td>\n",
       "      <td>1.95</td>\n",
       "      <td>7.0</td>\n",
       "      <td>900.285714</td>\n",
       "      <td>0.714286</td>\n",
       "      <td>67.052144</td>\n",
       "    </tr>\n",
       "    <tr>\n",
       "      <th>704</th>\n",
       "      <td>graduate</td>\n",
       "      <td>4.850000</td>\n",
       "      <td>2.093422</td>\n",
       "      <td>2.65</td>\n",
       "      <td>8.0</td>\n",
       "      <td>630.375000</td>\n",
       "      <td>0.500000</td>\n",
       "      <td>70.751988</td>\n",
       "    </tr>\n",
       "    <tr>\n",
       "      <th>520</th>\n",
       "      <td>hunk</td>\n",
       "      <td>4.388889</td>\n",
       "      <td>1.531479</td>\n",
       "      <td>1.25</td>\n",
       "      <td>4.0</td>\n",
       "      <td>284.250000</td>\n",
       "      <td>0.750000</td>\n",
       "      <td>66.655696</td>\n",
       "    </tr>\n",
       "    <tr>\n",
       "      <th>274</th>\n",
       "      <td>crew</td>\n",
       "      <td>4.850000</td>\n",
       "      <td>2.583199</td>\n",
       "      <td>1.65</td>\n",
       "      <td>4.0</td>\n",
       "      <td>566.500000</td>\n",
       "      <td>0.750000</td>\n",
       "      <td>71.259695</td>\n",
       "    </tr>\n",
       "    <tr>\n",
       "      <th>734</th>\n",
       "      <td>camp</td>\n",
       "      <td>5.350000</td>\n",
       "      <td>3.030600</td>\n",
       "      <td>1.20</td>\n",
       "      <td>4.0</td>\n",
       "      <td>656.500000</td>\n",
       "      <td>0.750000</td>\n",
       "      <td>79.461521</td>\n",
       "    </tr>\n",
       "    <tr>\n",
       "      <th>820</th>\n",
       "      <td>report</td>\n",
       "      <td>5.150000</td>\n",
       "      <td>3.269746</td>\n",
       "      <td>1.75</td>\n",
       "      <td>6.0</td>\n",
       "      <td>718.666667</td>\n",
       "      <td>0.666667</td>\n",
       "      <td>60.874401</td>\n",
       "    </tr>\n",
       "  </tbody>\n",
       "</table>\n",
       "</div>"
      ],
      "text/plain": [
       "         WORD  Concreteness  WordFrequency  OrthographicDistance  \\\n",
       "798     squad      4.550000       2.225309                  1.70   \n",
       "956  reversal      3.700000       1.991226                  2.65   \n",
       "262      poem      4.450000       2.414973                  1.85   \n",
       "648   horizon      4.950000       2.515874                  2.90   \n",
       "885   concept      2.150000       2.930440                  1.95   \n",
       "704  graduate      4.850000       2.093422                  2.65   \n",
       "520      hunk      4.388889       1.531479                  1.25   \n",
       "274      crew      4.850000       2.583199                  1.65   \n",
       "734      camp      5.350000       3.030600                  1.20   \n",
       "820    report      5.150000       3.269746                  1.75   \n",
       "\n",
       "     NumberOfLetters  BigramFrequency  ConsonantVowelProportion  \\\n",
       "798              5.0       156.200000                  0.600000   \n",
       "956              8.0       859.000000                  0.625000   \n",
       "262              4.0       298.000000                  0.500000   \n",
       "648              7.0       521.428571                  0.571429   \n",
       "885              7.0       900.285714                  0.714286   \n",
       "704              8.0       630.375000                  0.500000   \n",
       "520              4.0       284.250000                  0.750000   \n",
       "274              4.0       566.500000                  0.750000   \n",
       "734              4.0       656.500000                  0.750000   \n",
       "820              6.0       718.666667                  0.666667   \n",
       "\n",
       "     VisualComplexity  \n",
       "798         75.786439  \n",
       "956         60.545879  \n",
       "262         82.239855  \n",
       "648         60.077749  \n",
       "885         67.052144  \n",
       "704         70.751988  \n",
       "520         66.655696  \n",
       "274         71.259695  \n",
       "734         79.461521  \n",
       "820         60.874401  "
      ]
     },
     "execution_count": 7,
     "metadata": {},
     "output_type": "execute_result"
    }
   ],
   "source": [
    "epochs.metadata.sample(10)"
   ]
  },
  {
   "cell_type": "markdown",
   "metadata": {},
   "source": [
    "Let's pick something obvious for this example and build a dissimilarity matrix (DSM) based on the number of letters in each word."
   ]
  },
  {
   "cell_type": "code",
   "execution_count": 8,
   "metadata": {},
   "outputs": [
    {
     "data": {
      "image/png": "[encoded data removed]",
      "text/plain": [
       "<Figure size 144x144 with 2 Axes>"
      ]
     },
     "metadata": {
      "needs_background": "light"
     },
     "output_type": "display_data"
    }
   ],
   "source": [
    "dsm_vis = mne_rsa.compute_dsm(epochs.metadata[['NumberOfLetters']], metric='euclidean')\n",
    "mne_rsa.plot_dsms(dsm_vis);"
   ]
  },
  {
   "cell_type": "markdown",
   "metadata": {},
   "source": [
    "The above DSM will serve as our \"model\" DSM. In this example RSA analysis, we are going to compare the model DSM against DSMs created from the EEG data. The EEG DSMs will be created using a \"searchlight\" pattern. We are using squared Euclidean distance for our DSM metric, since we only have a few data points in each searlight patch. Feel free to play around with other metrics."
   ]
  },
  {
   "cell_type": "code",
   "execution_count": null,
   "metadata": {},
   "outputs": [],
   "source": [
    "rsa_result = mne_rsa.rsa_epochs(epochs,      # The EEG data\n",
    "                                dsm_vis,     # The model DSM\n",
    "                                epochs_dsm_metric='sqeuclidean',  # Metric to use to compute the EEG DSMs\n",
    "                                rsa_metric='kendall-tau-a',   # Metric to use to compare the model and EEG DSMs\n",
    "                                spatial_radius=45,  # Spatial radius of the searchlight patch\n",
    "                                temporal_radius=0.05,   # Temporal radius of the searchlight path\n",
    "                                tmin=0.15, tmax=0.25,  # To save time, only analyze this time interval\n",
    "                                n_jobs=1,  # Only use one CPU core. Increase this for more speed.\n",
    "                                verbose=True)  # Print progress bar"
   ]
  },
  {
   "cell_type": "markdown",
   "metadata": {},
   "source": [
    "The result is packed inside an MNE-Python [`Evoked`](https://mne.tools/stable/generated/mne.Evoked.html) object. This object defines many plotting functions, for example `plot_topomap` to look at the spatial distribution of the RSA values. By default, the signal is assumed to represent micro-Volts, so we need to explicitly inform the plotting function we are plotting RSA values and tweak the range of the colormap."
   ]
  },
  {
   "cell_type": "code",
   "execution_count": null,
   "metadata": {},
   "outputs": [],
   "source": [
    "rsa_result.plot_topomap(rsa_result.times, units=dict(eeg='kendall-tau-a'), scalings=dict(eeg=1),\n",
    "                        cbar_fmt='%.4f', vmin=0);"
   ]
  },
  {
   "cell_type": "code",
   "execution_count": 9,
   "metadata": {
    "scrolled": true
   },
   "outputs": [
    {
     "data": {
      "application/vnd.jupyter.widget-view+json": {
       "model_id": "2332cbc164264e6f8943b9b4aab1875c",
       "version_major": 2,
       "version_minor": 0
      },
      "text/plain": [
       "HBox(children=(FloatProgress(value=0.0, max=319.0), HTML(value='')))"
      ]
     },
     "metadata": {},
     "output_type": "display_data"
    },
    {
     "name": "stdout",
     "output_type": "stream",
     "text": [
      "\n"
     ]
    }
   ],
   "source": [
    "data_dsms = mne_rsa.dsm_epochs(epochs, dist_metric='sqeuclidean', spatial_radius=45, temporal_radius=0.05, tmin=0.15, tmax=0.25)\n",
    "rsa_result = mne_rsa.rsa(data_dsms, dsm_vis, metric='kendall-tau-a', n_jobs=6, n_data_dsms=319, verbose=True)"
   ]
  },
  {
   "cell_type": "markdown",
   "metadata": {},
   "source": [
    "unsurprisingly, we get the highest correspondance between number of letters and EEG signal in areas in the visual cortex."
   ]
  }
 ],
 "metadata": {
  "kernelspec": {
   "display_name": "Python 3",
   "language": "python",
   "name": "python3"
  },
  "language_info": {
   "codemirror_mode": {
    "name": "ipython",
    "version": 3
   },
   "file_extension": ".py",
   "mimetype": "text/x-python",
   "name": "python",
   "nbconvert_exporter": "python",
   "pygments_lexer": "ipython3",
   "version": "3.6.10"
  }
 },
 "nbformat": 4,
 "nbformat_minor": 2
}
