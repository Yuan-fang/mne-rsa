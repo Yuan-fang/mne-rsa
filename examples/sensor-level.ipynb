{
 "cells": [
  {
   "cell_type": "markdown",
   "metadata": {},
   "source": [
    "# Sensor-level RSA example on the kiloword EEG dataset\n",
    "\n",
    "This example demonstrates how to perform representational similarity analysis (RSA) on EEG data, using a searchlight approach.\n",
    "\n",
    "In the searchlight approach, representational similarity is computed between the model and searchlight \"patches\". A patch is defined by a seed point (e.g. sensor Pz) and everything within the given radius (e.g. all sensors within 4 cm. of Pz). Patches are created for all possible seed points (e.g. all sensors), so you can think of it as a \"searchlight\" that moves from seed point to seed point and everything that is in the spotlight is used in the computation.\n",
    "\n",
    "The radius of a searchlight can be defined in space, in time, or both. In this example, our searchlight will have a spatial radius of 4 cm. and a temporal radius of 0.1 cm.\n",
    "\n",
    "The dataset will be the kiloword dataset [1]: approximately 1,000 words were presented to 75 participants in a go/no-go lexical decision task while event-related potentials (ERPs) were recorded.\n",
    "\n",
    "[1] Dufau, S., Grainger, J., Midgley, KJ., Holcomb, PJ. A thousand words are worth a picture: Snapshots of printed-word processing in an event-related potential megastudy. Psychological science, 2015"
   ]
  },
  {
   "cell_type": "code",
   "execution_count": 1,
   "metadata": {},
   "outputs": [],
   "source": [
    "%load_ext autoreload\n",
    "%autoreload"
   ]
  },
  {
   "cell_type": "code",
   "execution_count": 2,
   "metadata": {},
   "outputs": [],
   "source": [
    "import mne\n",
    "import rsa\n",
    "import numpy as np\n",
    "%matplotlib inline"
   ]
  },
  {
   "cell_type": "code",
   "execution_count": 3,
   "metadata": {},
   "outputs": [
    {
     "name": "stdout",
     "output_type": "stream",
     "text": [
      "Downloading archive MNE-kiloword-data.tar.gz to /l/vanvlm1/mne_data\n",
      "Downloading https://files.osf.io/v1/resources/rxvq7/providers/osfstorage/59c25bd1594d900250e8a679?action=download&version=1&direct (24.3 MB)\n",
      "[............................................................] 100.00% ( 24.3 MB,  16.8 MB/s) /\n",
      "Verifying hash 3a124170795abbd2e48aae8727e719a8.\n",
      "Decompressing the archive: /l/vanvlm1/mne_data/MNE-kiloword-data.tar.gz\n",
      "(please be patient, this can take some time)\n",
      "Successfully extracted to: ['/l/vanvlm1/mne_data/MNE-kiloword-data']\n"
     ]
    }
   ],
   "source": [
    "data_path = mne.datasets.kiloword.data_path(verbose=True)\n",
    "epochs = mne.read_epochs(data_path + '/kword_metadata-epo.fif')\n",
    "evokeds = [epochs[w].average() for w in epochs.metadata['WORD']]"
   ]
  },
  {
   "cell_type": "code",
   "execution_count": 20,
   "metadata": {},
   "outputs": [],
   "source": [
    "model = epochs.metadata.iloc[:, 1:].values  # All word properties\n",
    "model_dsms = [rsa.compute_dsm(m, metric='sqeuclidean') for m in model]"
   ]
  },
  {
   "cell_type": "code",
   "execution_count": null,
   "metadata": {},
   "outputs": [],
   "source": [
    "evoked_rsa = rsa.rsa_evokeds(evokeds, model_dsm, spatial_radius=1, temporal_radius=0.5, verbose=True, rsa_metric='partial')"
   ]
  },
  {
   "cell_type": "code",
   "execution_count": null,
   "metadata": {},
   "outputs": [],
   "source": []
  },
  {
   "cell_type": "code",
   "execution_count": null,
   "metadata": {},
   "outputs": [],
   "source": [
    "evoked_rsa.plot();"
   ]
  },
  {
   "cell_type": "code",
   "execution_count": 18,
   "metadata": {},
   "outputs": [
    {
     "data": {
      "image/png": "[encoded data removed]",
      "text/plain": [
       "<Figure size 432x288 with 1 Axes>"
      ]
     },
     "metadata": {},
     "output_type": "display_data"
    }
   ],
   "source": [
    "evoked_rsa.plot_topo();"
   ]
  },
  {
   "cell_type": "code",
   "execution_count": null,
   "metadata": {},
   "outputs": [],
   "source": [
    "import gensim"
   ]
  },
  {
   "cell_type": "code",
   "execution_count": null,
   "metadata": {},
   "outputs": [],
   "source": [
    "vecs = gensim.models.KeyedVectors.load_word2vec_format('/m/nbe/project/corpora/englishmodels/GoogleNews-vectors-negative300.bin.gz', binary=True)"
   ]
  },
  {
   "cell_type": "code",
   "execution_count": null,
   "metadata": {},
   "outputs": [],
   "source": [
    "epochs.metadata.loc[840, 'WORD'] = 'whiskey'  # Alternate spelling\n",
    "model = vecs[epochs.metadata.WORD]"
   ]
  },
  {
   "cell_type": "code",
   "execution_count": null,
   "metadata": {},
   "outputs": [],
   "source": []
  },
  {
   "cell_type": "code",
   "execution_count": null,
   "metadata": {},
   "outputs": [],
   "source": [
    "import numpy as np\n",
    "np.save('w2v.npy', model)"
   ]
  },
  {
   "cell_type": "code",
   "execution_count": null,
   "metadata": {},
   "outputs": [],
   "source": [
    "epochs.metadata.query('WORD == \"whisky\"')"
   ]
  },
  {
   "cell_type": "code",
   "execution_count": null,
   "metadata": {},
   "outputs": [],
   "source": []
  }
 ],
 "metadata": {
  "kernelspec": {
   "display_name": "Python 3",
   "language": "python",
   "name": "python3"
  },
  "language_info": {
   "codemirror_mode": {
    "name": "ipython",
    "version": 3
   },
   "file_extension": ".py",
   "mimetype": "text/x-python",
   "name": "python",
   "nbconvert_exporter": "python",
   "pygments_lexer": "ipython3",
   "version": "3.6.8"
  }
 },
 "nbformat": 4,
 "nbformat_minor": 2
}
